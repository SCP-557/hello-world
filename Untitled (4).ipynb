{
 "cells": [
  {
   "cell_type": "code",
   "execution_count": 3,
   "id": "ff1912c6-5fd5-4dab-be1b-f67e4aa3705f",
   "metadata": {},
   "outputs": [
    {
     "name": "stdout",
     "output_type": "stream",
     "text": [
      "wtf?\n"
     ]
    }
   ],
   "source": [
    "print('wtf?') #打印字符串\n"
   ]
  },
  {
   "cell_type": "code",
   "execution_count": 4,
   "id": "591e6ae8-bba5-445a-9ff8-7b716dffcf84",
   "metadata": {},
   "outputs": [
    {
     "name": "stdout",
     "output_type": "stream",
     "text": [
      "oh♂\n",
      "__________________________________________________\n",
      "do you like van 游戏？\n",
      "Everybody should learn how to code a computer, because it teaches you how to think, and allows designers more creative!\n"
     ]
    }
   ],
   "source": [
    "print(\"oh♂\")\n",
    "print(\"_\"*50)\n",
    "print(\"do you like van 游戏？\")\n",
    "print(\"Everybody should learn how to code a computer, because it teaches you how to think, and allows designers more creative!\")\n"
   ]
  },
  {
   "cell_type": "code",
   "execution_count": 7,
   "id": "d9b656b3-7372-4b7b-acac-c1e0edc5c6b0",
   "metadata": {},
   "outputs": [
    {
     "name": "stdout",
     "output_type": "stream",
     "text": [
      "加： 7\n",
      "减： 5\n",
      "乘： 27\n",
      "除： 0.6\n",
      "整除： 0\n",
      "余数： 3\n",
      "幂： 64\n"
     ]
    }
   ],
   "source": [
    "print(\"加：\",4+3) #打印简单的运算\n",
    "print(\"减：\",6-1)\n",
    "print(\"乘：\",3*9)\n",
    "print(\"除：\", 3/5)\n",
    "print(\"整除：\", 3//6)\n",
    "print(\"余数：\", 3%6)\n",
    "print(\"幂：\",4**3)\n"
   ]
  },
  {
   "cell_type": "code",
   "execution_count": 8,
   "id": "3d3e96af-24e1-4f15-85db-63b99af86196",
   "metadata": {},
   "outputs": [
    {
     "ename": "NameError",
     "evalue": "name 'x' is not defined",
     "output_type": "error",
     "traceback": [
      "\u001b[1;31m---------------------------------------------------------------------------\u001b[0m",
      "\u001b[1;31mNameError\u001b[0m                                 Traceback (most recent call last)",
      "\u001b[1;32m<ipython-input-8-2acf486dedbe>\u001b[0m in \u001b[0;36m<module>\u001b[1;34m\u001b[0m\n\u001b[1;32m----> 1\u001b[1;33m \u001b[0mfunc\u001b[0m\u001b[1;33m=\u001b[0m\u001b[1;36m2\u001b[0m\u001b[1;33m*\u001b[0m\u001b[0mx\u001b[0m\u001b[1;33m+\u001b[0m\u001b[1;36m1\u001b[0m \u001b[1;31m#当程序逐行从上至下运行时，注意变量定义的顺序\u001b[0m\u001b[1;33m\u001b[0m\u001b[1;33m\u001b[0m\u001b[0m\n\u001b[0m\u001b[0;32m      2\u001b[0m \u001b[0mx\u001b[0m\u001b[1;33m=\u001b[0m\u001b[1;36m5\u001b[0m\u001b[1;33m\u001b[0m\u001b[1;33m\u001b[0m\u001b[0m\n\u001b[0;32m      3\u001b[0m \u001b[0mprint\u001b[0m\u001b[1;33m(\u001b[0m\u001b[0mfunc\u001b[0m\u001b[1;33m)\u001b[0m\u001b[1;33m\u001b[0m\u001b[1;33m\u001b[0m\u001b[0m\n",
      "\u001b[1;31mNameError\u001b[0m: name 'x' is not defined"
     ]
    }
   ],
   "source": [
    "func=2*x+1 #当程序逐行从上至下运行时，注意变量定义的顺序\n",
    "x=5\n",
    "print(func)\n"
   ]
  },
  {
   "cell_type": "code",
   "execution_count": 10,
   "id": "78ee2d45-9652-4ef8-aa96-42da94fc9ca1",
   "metadata": {},
   "outputs": [
    {
     "name": "stdout",
     "output_type": "stream",
     "text": [
      "monadic_equation= 39\n",
      "monadic_equation=39.00\n",
      "monadic_equation=39.00\n"
     ]
    }
   ],
   "source": [
    "x=19\n",
    "monadic_equation=2*x+1\n",
    "print(\"monadic_equation=\",monadic_equation)\n",
    "print(\"monadic_equation=%.2f\"%monadic_equation) #%字符串格式化方法\n",
    "print(\"monadic_equation={:.2f}\".format(monadic_equation)) #format()字符串格式化方法\n"
   ]
  },
  {
   "cell_type": "code",
   "execution_count": 12,
   "id": "715530b2-0bfd-47be-925e-1d4712e13069",
   "metadata": {},
   "outputs": [
    {
     "name": "stdout",
     "output_type": "stream",
     "text": [
      "The longitude of the Xi'an coordinate is 11.15, and the latitude is 22.2333.\n"
     ]
    }
   ],
   "source": [
    "city_name=\"Shan xi\"\n",
    "coordinate_longitude=11.14511\n",
    "coordiante_latitude=22.2333\n",
    "print(\"The longitude of the Xi'an coordinate is {lon:.2f}, and the latitude is {lat}.\".format(lon=coordinate_longitude,lat=coordiante_latitude))\n"
   ]
  },
  {
   "cell_type": "code",
   "execution_count": 13,
   "id": "136d1787-272c-4dbc-a128-54366f0be69d",
   "metadata": {},
   "outputs": [
    {
     "name": "stdout",
     "output_type": "stream",
     "text": [
      "func_2=3\n"
     ]
    }
   ],
   "source": [
    "x,y,b=3,4,9 #unpacking 序列解包。尝试，x,y,*z=0,1,2,3,4,5,6; x,y,*z=0,1; (x,y),(a,b)=(0,1),(2,3)\n",
    "func_2=2*x+3*y+b\n",
    "print(\"func_2={}\".format(x,y,b,func_2))\n"
   ]
  },
  {
   "cell_type": "code",
   "execution_count": 17,
   "id": "9a1885a4-4d00-46c9-bba9-41711dc9cf4b",
   "metadata": {},
   "outputs": [
    {
     "name": "stdout",
     "output_type": "stream",
     "text": [
      "[3, 5, 7, 9, 11, 13, 15, 17, 19]\n",
      "The list length=9\n",
      "Maximum value=19\n",
      "Minimum value=3\n"
     ]
    }
   ],
   "source": [
    "lst_n=list(range(3,20,2)) #建立列表。range(start,stop,[,step])建立区间。\n",
    "print(lst_n)\n",
    "print(\"The list length={}\".format(len(lst_n)))\n",
    "print(\"Maximum value={}\".format(max(lst_n)))\n",
    "print(\"Minimum value={}\".format(min(lst_n)))\n"
   ]
  },
  {
   "cell_type": "code",
   "execution_count": 20,
   "id": "0b953a82-742f-489f-a81d-6d20d865617c",
   "metadata": {},
   "outputs": [
    {
     "name": "stdout",
     "output_type": "stream",
     "text": [
      "['P', 'Q', 'R', 'S', 'T', 'U', 'V', 'W', 'X', 'Y', 'Z', '[', '\\\\', ']', '^', '_', '`', 'a', 'b', 'c', 'd', 'e', 'f', 'g', 'h', 'i', 'j', 'k', 'l', 'm']\n",
      "_____\n",
      "[3:6]->['S', 'T', 'U']\n",
      "[-3:-1]->['k', 'l']\n",
      "[-3:]->['k', 'l', 'm']\n",
      "[:3]->['P', 'Q', 'R']\n",
      "[:]->['P', 'Q', 'R', 'S', 'T', 'U', 'V', 'W', 'X', 'Y', 'Z', '[', '\\\\', ']', '^', '_', '`', 'a', 'b', 'c', 'd', 'e', 'f', 'g', 'h', 'i', 'j', 'k', 'l', 'm']\n"
     ]
    }
   ],
   "source": [
    "lst_s=list(map(chr,range(80,110)))\n",
    "print(lst_s)\n",
    "print(\"_\"*5)\n",
    "print(\"[3:6]->{}\".format(lst_s[3:6]))\n",
    "print(\"[-3:-1]->{}\".format(lst_s[-3:-1]))\n",
    "print(\"[-3:]->{}\".format(lst_s[-3:]))\n",
    "print(\"[:3]->{}\".format(lst_s[:3]))\n",
    "print(\"[:]->{}\".format(lst_s[:]))\n"
   ]
  },
  {
   "cell_type": "code",
   "execution_count": 21,
   "id": "f05b6b6d-8ccb-4029-8c2d-b51397978855",
   "metadata": {},
   "outputs": [
    {
     "name": "stdout",
     "output_type": "stream",
     "text": [
      "Help on class map in module builtins:\n",
      "\n",
      "class map(object)\n",
      " |  map(func, *iterables) --> map object\n",
      " |  \n",
      " |  Make an iterator that computes the function using arguments from\n",
      " |  each of the iterables.  Stops when the shortest iterable is exhausted.\n",
      " |  \n",
      " |  Methods defined here:\n",
      " |  \n",
      " |  __getattribute__(self, name, /)\n",
      " |      Return getattr(self, name).\n",
      " |  \n",
      " |  __iter__(self, /)\n",
      " |      Implement iter(self).\n",
      " |  \n",
      " |  __next__(self, /)\n",
      " |      Implement next(self).\n",
      " |  \n",
      " |  __reduce__(...)\n",
      " |      Return state information for pickling.\n",
      " |  \n",
      " |  ----------------------------------------------------------------------\n",
      " |  Static methods defined here:\n",
      " |  \n",
      " |  __new__(*args, **kwargs) from builtins.type\n",
      " |      Create and return a new object.  See help(type) for accurate signature.\n",
      "\n"
     ]
    }
   ],
   "source": [
    "help(map) #用help()方法查看说明\n"
   ]
  },
  {
   "cell_type": "code",
   "execution_count": 22,
   "id": "6b9b074f-4f81-48d2-8aa7-3521d1f58a06",
   "metadata": {},
   "outputs": [
    {
     "name": "stdout",
     "output_type": "stream",
     "text": [
      "Help on built-in function chr in module builtins:\n",
      "\n",
      "chr(i, /)\n",
      "    Return a Unicode string of one character with ordinal i; 0 <= i <= 0x10ffff.\n",
      "\n"
     ]
    }
   ],
   "source": [
    "help(chr)\n"
   ]
  },
  {
   "cell_type": "code",
   "execution_count": 23,
   "id": "cc0443fa-cfe5-4d87-a44b-ea153b2c20ae",
   "metadata": {},
   "outputs": [
    {
     "name": "stdout",
     "output_type": "stream",
     "text": [
      "['P', 'Q', 'R', 'S', 'T', 'U', 'V', 'W', 'X', 'Y', 'Z', '[', '\\\\', ']', '^', '_', '`', 'a', 'b', 'c', 'd', 'e', 'f', 'g', 'h', 'i', 'j', 'k', 'l', 'm']\n",
      "__________________________________________________\n",
      "[0:10:2]->['P', 'Q', 'R', 'S', 'T', 'U', 'V', 'W', 'X', 'Y']\n",
      "[::3]->['P', 'U', 'Z', '_', 'd', 'i']\n",
      "[9:3:-2]->['W', 'U']\n",
      "[20:3:-2]->['_', ']', '[', 'Y', 'W', 'U']\n",
      "[7::-2]->['U', 'S', 'Q']\n",
      "[:3:-2]->['m', 'k', 'i', 'g', 'e', 'c', 'a', '_', ']', '[', 'Y']\n"
     ]
    }
   ],
   "source": [
    "print(lst_s)\n",
    "print(\"_\"*50)\n",
    "print(\"[0:10:2]->{}\".format(lst_s[0:10:1]))\n",
    "print(\"[::3]->{}\".format(lst_s[::5]))\n",
    "print(\"[9:3:-2]->{}\".format(lst_s[7:3:-2]))\n",
    "print(\"[20:3:-2]->{}\".format(lst_s[15:3:-2]))\n",
    "print(\"[7::-2]->{}\".format(lst_s[5::-2]))\n",
    "print(\"[:3:-2]->{}\".format(lst_s[:7:-2]))\n"
   ]
  },
  {
   "cell_type": "code",
   "execution_count": 26,
   "id": "ccf1c6f0-5f3e-4e33-b292-ba4cb62c4fb9",
   "metadata": {},
   "outputs": [
    {
     "name": "stdout",
     "output_type": "stream",
     "text": [
      "['P', 'Q', 'R', 'S', 'T', 'U', 'V', 'W', 'X', 155, 'Z', '[', '\\\\', ']', '^', '_', '`', 'a', 'b', 'c', 'd', 'e', 'f', 'g', 'h', 'i', 'j', 'k', 'l', 'm']\n",
      "__________________________________________________\n",
      "lst_s[5]=99->['P', 'Q', 'R', 'S', 'T', 'U', 'V', 'W', 'X', 155, 'Z', '[', '\\\\', ']', '^', '_', '`', 'a', 'b', 'c', 'd', 'e', 'f', 'g', 'h', 'i', 'j', 'k', 'l', 'm']\n",
      "lst_s+[None]*6->['P', 'Q', 'R', 'S', 'T', 'U', 'V', 'W', 'X', 155, 'Z', '[', '\\\\', ']', '^', '_', '`', 'a', 'b', 'c', 'd', 'e', 'f', 'g', 'h', 'i', 'j', 'k', 'l', 'm', None, None, None, None, None, None]\n",
      "lst_none[13]=2015->['P', 'Q', 'R', 'S', 'T', 'U', 'V', 'W', 'X', 155, 'Z', '[', '\\\\', 2015, '^', '_', '`', 'a', 'b', 'c', 'd', 'e', 'f', 'g', 'h', 'i', 'j', 'k', 'l', 'm', None, None, None, None, None, None]\n",
      "lst_none[-6:-3]=list(range(100,104,2))->['P', 'Q', 'R', 'S', 'T', 'U', 'V', 'W', 'X', 155, 'Z', '[', '\\\\', 2015, '^', '_', '`', 'a', 'b', 'c', 'd', 'e', 'f', 'g', 'h', 'i', 'j', 'k', 'l', 'm', 100, 105, None, None, None]\n",
      "lst_none[1:1]=[0,0,0,12]->['P', 0, 3, 2, 12, 'Q', 'R', 'S', 'T', 'U', 'V', 'W', 'X', 155, 'Z', '[', '\\\\', 2015, '^', '_', '`', 'a', 'b', 'c', 'd', 'e', 'f', 'g', 'h', 'i', 'j', 'k', 'l', 'm', 100, 105, None, None, None]\n",
      "del lst_none[-2:]->['P', 0, 3, 2, 12, 'Q', 'R', 'S', 'T', 'U', 'V', 'W', 'X', 155, 'Z', '[', '\\\\', 2015, '^', '_', '`', 'a', 'b', 'c', 'd', 'e', 'f', 'g', 'h', 'i', 'j', 'k', 'l', 'm', 100, 105, None]\n"
     ]
    }
   ],
   "source": [
    "print(lst_s)\n",
    "print(\"_\"*50)\n",
    "lst_s[9]=155 #元素赋值\n",
    "print(\"lst_s[5]=99->{}\".format(lst_s))\n",
    "lst_none=lst_s+[None]*6\n",
    "print(\"lst_s+[None]*6->{}\".format(lst_none))\n",
    "lst_none[13]=2015\n",
    "print(\"lst_none[13]=2015->{}\".format(lst_none))\n",
    "lst_none[-6:-3]=list(range(100,109,5)) #分片赋值\n",
    "print(\"lst_none[-6:-3]=list(range(100,104,2))->{}\".format(lst_none))\n",
    "lst_none[1:1]=[0,3,2,12]\n",
    "print(\"lst_none[1:1]=[0,0,0,12]->{}\".format(lst_none))\n",
    "del lst_none[-2:] #删除元素\n",
    "print(\"del lst_none[-2:]->{}\".format(lst_none))\n"
   ]
  },
  {
   "cell_type": "code",
   "execution_count": 28,
   "id": "525ca65f-de60-4543-9817-5d80d86e8664",
   "metadata": {},
   "outputs": [
    {
     "name": "stdout",
     "output_type": "stream",
     "text": [
      "['d', 'e', 'f', 'g', 'h', 'i', 'j', 'k', 'l', 'm', 'n', 'o', 'p', 'q', 'r', 's', 't', 'u', 'v', 'w']\n",
      "_____\n",
      "lst_s_2.append(99)->['d', 'e', 'f', 'g', 'h', 'i', 'j', 'k', 'l', 'm', 'n', 'o', 'p', 'q', 'r', 's', 't', 'u', 'v', 'w', 97]\n",
      "lst_s_2.append(list(range(50,75,5)))->['d', 'e', 'f', 'g', 'h', 'i', 'j', 'k', 'l', 'm', 'n', 'o', 'p', 'q', 'r', 's', 't', 'u', 'v', 'w', 97, [50, 55, 60, 65, 70]]\n",
      "lst_s_2.extend(lst_spechars)->['d', 'e', 'f', 'g', 'h', 'i', 'j', 'k', 'l', 'm', 'n', 'o', 'p', 'q', 'r', 's', 't', 'u', 'v', 'w', 97, [50, 55, 60, 65, 70], '*', ')', '*']\n",
      "lst_s_2.count('*')=2\n",
      "lst_s_2.index('e')=1\n",
      "lst_s_2.insert(2,[100,120,150])->['d', 'e', [100, 120, 150], 'f', 'g', 'h', 'i', 'j', 'k', 'l', 'm', 'n', 'o', 'p', 'q', 'r', 's', 't', 'u', 'v', 'w', 97, [50, 55, 60, 65, 70], '*', ')', '*']\n",
      "lst_s_2.pop(7)_popup->j\n",
      "lst_s_2.pop(7)_retention->['d', 'e', [100, 120, 150], 'f', 'g', 'h', 'i', 'k', 'l', 'm', 'n', 'o', 'p', 'q', 'r', 's', 't', 'u', 'v', 'w', 97, [50, 55, 60, 65, 70], '*', ')', '*']\n",
      "lst_s_2.remove('*')_retention->['d', 'e', [100, 120, 150], 'f', 'g', 'h', 'i', 'k', 'l', 'm', 'n', 'o', 'p', 'q', 'r', 's', 't', 'u', 'v', 'w', 97, [50, 55, 60, 65, 70], ')', '*']\n",
      "list_n_2.sort()->[2, 3, 4, 6, 40, 98]\n"
     ]
    }
   ],
   "source": [
    "lst_s_2=list(map(chr,range(100,120)))\n",
    "print(lst_s_2)\n",
    "print(\"_\"*5)\n",
    "lst_s_2.append(97)\n",
    "print(\"lst_s_2.append(99)->{}\".format(lst_s_2))\n",
    "lst_s_2.append(list(range(50,75,5)))\n",
    "print(\"lst_s_2.append(list(range(50,75,5)))->{}\".format(lst_s_2))\n",
    "lst_spechars=['*',')','*']\n",
    "lst_s_2.extend(lst_spechars)\n",
    "print(\"lst_s_2.extend(lst_spechars)->{}\".format(lst_s_2))\n",
    "print(\"lst_s_2.count('*')={}\".format(lst_s_2.count('*')))\n",
    "print(\"lst_s_2.index('e')={}\".format(lst_s_2.index('e')))\n",
    "lst_s_2.insert(2,[100,120,150])\n",
    "print(\"lst_s_2.insert(2,[100,120,150])->{}\".format(lst_s_2))\n",
    "print(\"lst_s_2.pop(7)_popup->{}\".format(lst_s_2.pop(7)))\n",
    "print(\"lst_s_2.pop(7)_retention->{}\".format(lst_s_2))\n",
    "lst_s_2.remove('*')\n",
    "print(\"lst_s_2.remove('*')_retention->{}\".format(lst_s_2))\n",
    "list_n_2=[2,40,6,98,4,3]\n",
    "list_n_2.sort()\n",
    "print(\"list_n_2.sort()->{}\".format(list_n_2))\n"
   ]
  },
  {
   "cell_type": "code",
   "execution_count": 30,
   "id": "5892f29f-5fe8-4643-999b-98617008fe21",
   "metadata": {},
   "outputs": [
    {
     "name": "stdout",
     "output_type": "stream",
     "text": [
      "tuple_1=4,7,8,->(4, 7, 8)\n",
      "3*(20*3,)->(36, 36, 36)\n",
      "tuple((3,7,9))->(3, 7, 9)\n",
      "tuple([3,7,9])->(3, 7, 9)\n"
     ]
    }
   ],
   "source": [
    "tuple_1=4,7,8,\n",
    "print(\"tuple_1=4,7,8,->{}\".format(tuple_1))\n",
    "print(\"3*(20*3,)->{}\".format(3*(12*3,)))\n",
    "print(\"tuple((3,7,9))->{}\".format(tuple((3,7,9)))) #用()\n",
    "print(\"tuple([3,7,9])->{}\".format(tuple([3,7,9]))) #用[]"
   ]
  },
  {
   "cell_type": "code",
   "execution_count": 32,
   "id": "75a37364-520d-4439-a6ee-0389b53549b9",
   "metadata": {},
   "outputs": [
    {
     "name": "stdout",
     "output_type": "stream",
     "text": [
      "items->[(0, [0, 1, 2, 3]), (1, [[114, 170, 176, 140, 158, 112]]), (2, 'none?')]\n",
      "dic=dict(items)->{0: [0, 1, 2, 3], 1: [[114, 170, 176, 140, 158, 112]], 2: 'none?'}\n",
      "dic[1]->[[114, 170, 176, 140, 158, 112]]\n"
     ]
    }
   ],
   "source": [
    "import random\n",
    "items=[(0,[i for i in range(4)]),(1,[random.sample(list(range(100,180,2)),6)]),(2,'none?')] #[i for i in range(5)] 为列表推导式 list comprehension/derivation\n",
    "print(\"items->{}\".format(items))\n",
    "dic=dict(items)\n",
    "print(\"dic=dict(items)->{}\".format(dic))\n",
    "print(\"dic[1]->{}\".format(dic[1]))\n"
   ]
  },
  {
   "cell_type": "code",
   "execution_count": 38,
   "id": "4b1ea54c-3b96-4729-83bf-d45d284af51a",
   "metadata": {},
   "outputs": [
    {
     "name": "stdout",
     "output_type": "stream",
     "text": [
      "len(dic)->3\n",
      "dic[3]=(random.random(),random.uniform(150,200))->{0: [0, 1, 2, 3], 2: 'none?', 3: (0.7142479721916151, 178.5072281555374)}\n",
      "del dic[1]->{0: [0, 1, 2, 3], 3: (0.7142479721916151, 178.5072281555374)}\n",
      "4 in dic->False\n",
      "8 in dic->False\n",
      "dic.keys()->dict_keys([0, 3])\n",
      "dic.values()->dict_values([[0, 1, 2, 3], (0.7142479721916151, 178.5072281555374)])\n",
      "dic.items()->dict_items([(0, [0, 1, 2, 3]), (3, (0.7142479721916151, 178.5072281555374))])\n",
      "__________________________________________________\n",
      "list(dic.keys())->[0, 3]\n"
     ]
    }
   ],
   "source": [
    "print(\"len(dic)->{}\".format(len(dic)))\n",
    "dic[3]=(random.random(),random.uniform(150,200))\n",
    "print(\"dic[3]=(random.random(),random.uniform(150,200))->{}\".format(dic))\n",
    "del dic[2]\n",
    "print(\"del dic[1]->{}\".format(dic))\n",
    "print(\"4 in dic->{}\".format(4 in dic))\n",
    "print(\"8 in dic->{}\".format(8 in dic))\n",
    "print(\"dic.keys()->{}\".format(dic.keys())) #应该放在字典的方法一节里\n",
    "print(\"dic.values()->{}\".format(dic.values()))\n",
    "print(\"dic.items()->{}\".format(dic.items()))\n",
    "print(\"_\"*50)\n",
    "print(\"list(dic.keys())->{}\".format(list(dic.keys())))\n"
   ]
  },
  {
   "cell_type": "code",
   "execution_count": 39,
   "id": "aea29ca8-7673-473a-9706-616b06d6bfb4",
   "metadata": {},
   "outputs": [
    {
     "name": "stdout",
     "output_type": "stream",
     "text": [
      "0 (0, [0, 1, 2, 3])\n",
      "1 (3, (0.7142479721916151, 178.5072281555374))\n"
     ]
    }
   ],
   "source": [
    "for k,v in enumerate(dic.items()): #for循环在后文\n",
    "    print(k,v)\n"
   ]
  },
  {
   "cell_type": "code",
   "execution_count": 42,
   "id": "7a7ae7d1-0f0b-4e76-9b62-dd8b220aeeb4",
   "metadata": {},
   "outputs": [
    {
     "name": "stdout",
     "output_type": "stream",
     "text": [
      "lst_A=[5, 10, 15],lst_B=[115, 120, 125, 130, 135]\n",
      "dic_2={0: [5, 10, 15], 1: [115, 120, 125, 130, 135]}\n",
      "_____\n",
      "dic_assignment={0: [5, 10, 15], 1: [115, 120, 125, 130, 135]}\n",
      "dic_2.clear()->{}\n",
      "dic_assignment={}\n",
      "dic_2[5]=list(range(1,13,2))->{5: [1, 3, 5, 7, 9, 11]}\n",
      "dic_copy=dic_2.copy()->{5: [1, 3, 5, 7, 9, 11]}\n",
      "dic_2[8]=[5,7]->{5: [1, 3, 5, 7, 9, 11], 8: [5, 7]}\n",
      "dic_copy={5: [1, 3, 5, 7, 9, 11]}\n",
      "dic_copy[5].remove(5)->{5: [1, 3, 7, 9, 11]}\n",
      "dic_copy.setdefault(6,[77,99])->{5: [1, 3, 7, 9, 11], 6: [77, 99]}\n",
      "dic_2.pop(5)->{8: [5, 7]}\n",
      "dic_update={8: [4, 5, 8, 3, 1], 9: [5, 2, 53, 48, 60]}\n",
      "dic_2.update(dic_update->{8: [4, 5, 8, 3, 1], 9: [5, 2, 53, 48, 60]}\n",
      "dic_2.get(9)->[5, 2, 53, 48, 60]\n",
      "dic_2.popitem()->{8: [4, 5, 8, 3, 1]}\n",
      "dic_3={}.fromkeys([0,1,2,3,4,'A'])->{0: None, 1: None, 2: None, 3: None, 4: None, 'A': None}\n"
     ]
    }
   ],
   "source": [
    "lst_A=list(range(5,20,5))\n",
    "lst_B=list(range(115,140,5))\n",
    "print(\"lst_A={},lst_B={}\".format(lst_A,lst_B))\n",
    "dic_2={0:lst_A,1:lst_B}\n",
    "print(\"dic_2={}\".format(dic_2))\n",
    "print(\"_\"*5)\n",
    "dic_assignment=dic_2\n",
    "print(\"dic_assignment={}\".format(dic_assignment))\n",
    "dic_2.clear()\n",
    "print(\"dic_2.clear()->{}\".format(dic_2))\n",
    "print(\"dic_assignment={}\".format(dic_assignment))\n",
    "dic_2[5]=list(range(1,13,2))\n",
    "print(\"dic_2[5]=list(range(1,13,2))->{}\".format(dic_2))\n",
    "dic_copy=dic_2.copy()\n",
    "print(\"dic_copy=dic_2.copy()->{}\".format(dic_copy))\n",
    "dic_2[8]=[5,7]\n",
    "print(\"dic_2[8]=[5,7]->{}\".format(dic_2))\n",
    "print(\"dic_copy={}\".format(dic_copy))\n",
    "dic_copy[5].remove(5)\n",
    "print(\"dic_copy[5].remove(5)->{}\".format(dic_copy))\n",
    "dic_copy.setdefault(6,[77,99]) #返回指定键的值，如果不存在该键，则字典增加新的键/值对\n",
    "print(\"dic_copy.setdefault(6,[77,99])->{}\".format(dic_copy))\n",
    "dic_2.pop(5) #移除指定键/值，并返回该值\n",
    "print(\"dic_2.pop(5)->{}\".format(dic_2))\n",
    "dic_update={8:[4,5,8,3,1],9:[5,2,53,48,60]}\n",
    "print(\"dic_update={}\".format(dic_update))\n",
    "dic_2.update(dic_update) #更新字典\n",
    "print(\"dic_2.update(dic_update->{}\".format(dic_2))\n",
    "print(\"dic_2.get(9)->{}\".format(dic_2.get(9)))\n",
    "dic_2.popitem() #随即弹出一对键/值，并在该字典中移除\n",
    "print(\"dic_2.popitem()->{}\".format(dic_2))\n",
    "\n",
    "dic_3={}.fromkeys([0,1,2,3,4,'A']) #给定键，建立值为空的字典\n",
    "print(\"dic_3={}\"+\".fromkeys([0,1,2,3,4,'A'])->{}\".format(dic_3)) #找下escape characters 脱字符\n"
   ]
  },
  {
   "cell_type": "code",
   "execution_count": 45,
   "id": "0d0d6780-0d1a-49b1-872d-446e14f3a132",
   "metadata": {},
   "outputs": [
    {
     "name": "stdout",
     "output_type": "stream",
     "text": [
      "lst_s_3=list(\"oh?\")->['o', 'h', '?']\n",
      "\"o\"+\" h?\"->0 h?!\n",
      "\"+\".join(str(123456))->1+2+3+4+5+6\n",
      "len(\"oh?\")->3\n",
      "coordinates.split(\",\")->['120.132007', '30.300508', '9.7']\n",
      "eval(coordinates)->(120.132007, 30.300508, 9.7)\n",
      "\"oh?\".lower()->oh?\n",
      "\"oh?\".upper()->OH?\n",
      "\"oh?\"[6:]->\n",
      "\"    oh?    \".strip()->oh?\n",
      "\"oh?\".replace(\"h?\",\"mg\")->omg\n",
      "hello_lst.sort()>['?', 'h', 'o']\n",
      "\"oh?\".find(\"h\")->1\n"
     ]
    }
   ],
   "source": [
    "lst_s_3=list(\"oh?\")\n",
    "print(\"lst_s_3=list(\\\"oh?\\\")->{}\".format(lst_s_3)) #\"\\\" escape character\n",
    "print(\"\\\"o\\\"+\\\" h?\\\"->{}\".format(\"0\"+\" h?!\"))\n",
    "print(\"\\\"+\\\".join(str(123456))->{}\".format(\"+\".join(str(123456))))\n",
    "print(\"len(\\\"oh?\\\")->{}\".format(len(\"oh?\")))\n",
    "coordinates=\"120.132007,30.300508,9.7\"\n",
    "print(\"coordinates.split(\\\",\\\")->{}\".format(coordinates.split(\",\")))\n",
    "print(\"eval(coordinates)->{}\".format(eval(coordinates))) #通常用eval()方法将字符串，转换为对应数值形式；\n",
    "print(\"\\\"oh?\\\".lower()->{}\".format(\"oh?\".lower()))\n",
    "print(\"\\\"oh?\\\".upper()->{}\".format(\"oh?\".upper()))\n",
    "print(\"\\\"oh?\\\"[6:]->{}\".format(\"oh?\"[6:]))\n",
    "print(\"\\\"    oh?    \\\".strip()->{}\".format(\"    oh?    \".strip()))\n",
    "print(\"\\\"oh?\\\".replace(\\\"h?\\\",\\\"mg\\\")->{}\".format(\"oh?\".replace(\"h?\",\"mg\")))\n",
    "hello_lst=list(\"oh?\")\n",
    "hello_lst.sort()\n",
    "print(\"hello_lst.sort()>{}\".format(hello_lst))\n",
    "print(\"\\\"oh?\\\".find(\\\"h\\\")->{}\".format(\"oh?\".find(\"h\")))\n"
   ]
  },
  {
   "cell_type": "code",
   "execution_count": 47,
   "id": "d21c09e9-82c4-472e-beeb-04390f836061",
   "metadata": {},
   "outputs": [
    {
     "name": "stdout",
     "output_type": "stream",
     "text": [
      "new_str=format_str % values->Hello,A and B!\n",
      "new_str_2=format_str_2 % (pi,3.1415926)->Pi with three decimals:3.142,and enter a value with percent sign:3.14 %\n"
     ]
    }
   ],
   "source": [
    "format_str=\"Hello,%s and %s!\"\n",
    "values=(\"A\",\"B\")\n",
    "new_str=format_str % values\n",
    "print(\"new_str=format_str % values->{}\".format(new_str))\n",
    "\n",
    "format_str_2=\"Pi with three decimals:%.3f,and enter a value with percent sign:%.2f %%\" #如果字符串里包含实际的%，则通过%%即两个百分号进行转义\n",
    "\n",
    "from math import pi\n",
    "new_str_2=format_str_2 % (pi,3.1415926)\n",
    "print(\"new_str_2=format_str_2 % (pi,3.1415926)->{}\".format(new_str_2))\n"
   ]
  },
  {
   "cell_type": "code",
   "execution_count": 49,
   "id": "eca84528-adf2-48a5-8dfe-dc699f8b80f2",
   "metadata": {},
   "outputs": [
    {
     "name": "stdout",
     "output_type": "stream",
     "text": [
      "  3.141593,      3.14,3.14,？？？,！！！,52,34,3.141593\n"
     ]
    }
   ],
   "source": [
    "format_str_3=\"%10f,%10.2f,%.2f,%.5s,%.*s,%d,%x,%f\"\n",
    "new_str_3=format_str_3%(pi,pi,pi,\"？？？\",5,\"！！！\",52,52,pi)\n",
    "print(\"{}\".format(new_str_3))\n"
   ]
  },
  {
   "cell_type": "code",
   "execution_count": 52,
   "id": "14efc0de-8516-4f5d-9600-4b9063e5a5f7",
   "metadata": {},
   "outputs": [
    {
     "name": "stdout",
     "output_type": "stream",
     "text": [
      "s_1=s_template_1.substitute(x=\"?\")->?,what?,?\n",
      "s_2=s_template_2.substitute(x=\"wh\")->what is amazing!\n",
      "substitute_dict={'x': 'what?', 'y': 'oh?'}\n",
      "s_3=s_template_3.substitute(substitute_dict)->what? and oh? are both amazing!\n"
     ]
    }
   ],
   "source": [
    "from string import Template\n",
    "s_template_1=Template(\"$x,what?,$x\")\n",
    "s_1=s_template_1.substitute(x=\"?\")\n",
    "print(\"s_1=s_template_1.substitute(x=\\\"?\\\")->{}\".format(s_1))\n",
    "s_template_2=Template(\"${x}at is amazing!\")\n",
    "s_2=s_template_2.substitute(x=\"wh\")\n",
    "print(\"s_2=s_template_2.substitute(x=\\\"wh\\\")->{}\".format(s_2))\n",
    "s_template_3=Template(\"$x and $y are both amazing!\")\n",
    "substitute_dict=dict([('x','what?'),('y','oh?')])\n",
    "print(\"substitute_dict={}\".format(substitute_dict))\n",
    "s_3=s_template_3.substitute(substitute_dict)\n",
    "print(\"s_3=s_template_3.substitute(substitute_dict)->{}\".format(s_3))\n"
   ]
  },
  {
   "cell_type": "code",
   "execution_count": 54,
   "id": "437d3f59-330b-4aba-9b75-e3ba4eabb69d",
   "metadata": {},
   "outputs": [
    {
     "name": "stdout",
     "output_type": "stream",
     "text": [
      "re.findall(pattern_1,text)->['there']\n",
      "re.findall(pattern_2,text)->[]\n"
     ]
    }
   ],
   "source": [
    "import re\n",
    "pattern_1='there'\n",
    "text=\"hey there\"\n",
    "print(\"re.findall(pattern_1,text)->{}\".format(re.findall(pattern_1,text)))\n",
    "pattern_2='python'\n",
    "print(\"re.findall(pattern_2,text)->{}\".format(re.findall(pattern_2,text)))\n"
   ]
  },
  {
   "cell_type": "code",
   "execution_count": 55,
   "id": "514efbfb-d84a-42c8-bb0e-492829653f07",
   "metadata": {},
   "outputs": [
    {
     "name": "stdout",
     "output_type": "stream",
     "text": [
      "re.findall('.ython','Hello Python!')->['Python']\n",
      "re.findall('.ython','Hello gython!')->['gython']\n",
      "re.findall('.ython','Hello gPython!')->['Python']\n",
      "re.findall('.ython','Hello Pthon!')->[]\n"
     ]
    }
   ],
   "source": [
    "print(\"re.findall('.ython','Hello Python!')->{}\".format(re.findall('.ython','Hello Python!')))\n",
    "print(\"re.findall('.ython','Hello gython!')->{}\".format(re.findall('.ython','Hello gython!')))\n",
    "print(\"re.findall('.ython','Hello gPython!')->{}\".format(re.findall('.ython','Hello gPython!')))\n",
    "print(\"re.findall('.ython','Hello Pthon!')->{}\".format(re.findall('.ython','Hello Pthon!')))\n"
   ]
  },
  {
   "cell_type": "code",
   "execution_count": 56,
   "id": "bd8ec87a-d1c2-4bb3-ad1c-0dd2c4ca1756",
   "metadata": {},
   "outputs": [
    {
     "name": "stdout",
     "output_type": "stream",
     "text": [
      "re.findall(r'w?cadesign\\.cn,w+\\.cadesign\\.cn','cadesign.cn,www.cadesign.cn')->['cadesign.cn,www.cadesign.cn']\n",
      "re.findall(r'w{2}\\.cadesign\\.cn','www.cadesign.cn')->['ww.cadesign.cn']\n",
      "re.findall(r'w{1,3}\\.cadesign\\.cn','www.cadesign.cn')->['www.cadesign.cn']\n"
     ]
    }
   ],
   "source": [
    "print(\"re.findall(r'w?cadesign\\.cn,w+\\.cadesign\\.cn','cadesign.cn,www.cadesign.cn')->{}\".format(re.findall(r'w?cadesign\\.cn,w+\\.cadesign\\.cn','cadesign.cn,www.cadesign.cn')))\n",
    "print(\"re.findall(r'w{2}\"+\"\\.cadesign\\.cn','www.cadesign.cn')->{}\".format(re.findall(r'w{2}\\.cadesign\\.cn','www.cadesign.cn')))\n",
    "print(\"re.findall(r'w{1,3}\"+\"\\.cadesign\\.cn','www.cadesign.cn')->{}\".format(re.findall(r'w{1,3}\\.cadesign\\.cn','www.cadesign.cn')))\n"
   ]
  },
  {
   "cell_type": "code",
   "execution_count": 57,
   "id": "ea1c5702-6b14-4cd8-afa5-dc94331fcc1b",
   "metadata": {},
   "outputs": [
    {
     "name": "stdout",
     "output_type": "stream",
     "text": [
      "re.findall('[Py]*thon!','Hello Python!')->['Python!']\n",
      "re.findall('[Py]*thon!','Hello Pthon!')->['Pthon!']\n",
      "re.findall('[Py]*thon!','Hello ython!')->['ython!']\n",
      "re.findall('[Py]*thon!','Hello ython!')->['thon!']\n"
     ]
    }
   ],
   "source": [
    "print(\"re.findall('[Py]*thon!','Hello Python!')->{}\".format(re.findall('[Py]*thon!','Hello Python!')))\n",
    "print(\"re.findall('[Py]*thon!','Hello Pthon!')->{}\".format(re.findall('[Py]*thon!','Hello Pthon!')))\n",
    "print(\"re.findall('[Py]*thon!','Hello ython!')->{}\".format(re.findall('[Py]*thon!','Hello ython!')))\n",
    "print(\"re.findall('[Py]*thon!','Hello ython!')->{}\".format(re.findall('[Py]*thon!','Hello thon!')))\n"
   ]
  },
  {
   "cell_type": "code",
   "execution_count": 58,
   "id": "d377fa54-27f1-4ff3-89ba-2071f532ad23",
   "metadata": {},
   "outputs": [
    {
     "name": "stdout",
     "output_type": "stream",
     "text": [
      "re.findall('python|grasshopper','python')->['python']\n",
      "re.findall('python|grasshopper','grasshopper')->['grasshopper']\n",
      "re.findall('python|grasshopper','grasshopper and python')->['grasshopper', 'python']\n"
     ]
    }
   ],
   "source": [
    "print(\"re.findall('python|grasshopper','python')->{}\".format(re.findall('python|grasshopper','python')))\n",
    "print(\"re.findall('python|grasshopper','grasshopper')->{}\".format(re.findall('python|grasshopper','grasshopper')))\n",
    "print(\"re.findall('python|grasshopper','grasshopper and python')->{}\".format(re.findall('python|grasshopper','grasshopper and python')))\n"
   ]
  },
  {
   "cell_type": "code",
   "execution_count": 61,
   "id": "5ba41a0e-8c41-4606-b27e-98549c09fc4e",
   "metadata": {},
   "outputs": [
    {
     "name": "stdout",
     "output_type": "stream",
     "text": [
      "re.findall('\\d','vanguard=10')->['1', '0']\n",
      "re.findall('\\D','vanguard=10')->['v', 'a', 'n', 'g', 'u', 'a', 'r', 'd', '=']\n",
      "re.findall('[^0-9]','vanguard=10')->['v', 'a', 'n', 'g', 'u', 'a', 'r', 'd', '=']\n"
     ]
    }
   ],
   "source": [
    "print(\"re.findall('\\d','vanguard=10')->{}\".format(re.findall('\\d','vanguard=10')))\n",
    "print(\"re.findall('\\D','vanguard=10')->{}\".format(re.findall('\\D','vanguard=10')))\n",
    "print(\"re.findall('[^0-9]','vanguard=10')->{}\".format(re.findall('[^0-9]','vanguard=10')))\n"
   ]
  },
  {
   "cell_type": "code",
   "execution_count": 63,
   "id": "83df84b4-7901-44cf-beac-ddeb73f383ea",
   "metadata": {},
   "outputs": [
    {
     "name": "stdout",
     "output_type": "stream",
     "text": [
      "re.findall('[a-z]','hey')->['h', 'e', 'y']\n",
      "re.search('[a-z]+','hey')-><re.Match object; span=(0, 3), match='hey'>\n",
      "re.search('[a-z]+','hey')->found it!\n",
      "re.split(',','Hello,,,,,,hey!')->['Hello', '', '', '', '', '', 'hey!']\n",
      "re.sub('Python','?','Hello hey!')->Hello hey!\n",
      "pattern_compile.findall('Hello,,,,,,hey!')->['hey']\n",
      "re.match('h','hey')->found it!\n"
     ]
    }
   ],
   "source": [
    "print(\"re.findall('[a-z]','hey')->{}\".format(re.findall('[a-z]','hey-3.0')))\n",
    "print(\"re.search('[a-z]+','hey')->{}\".format(re.search('[a-z]+','hey')))\n",
    "if re.search('[a-z]+','hey'):\n",
    "    print(\"re.search('[a-z]+','hey')->found it!\")\n",
    "print(\"re.split(',','Hello,,,,,,hey!')->{}\".format(re.split(',','Hello,,,,,,hey!')))\n",
    "print(\"re.sub('Python','?','Hello hey!')->{}\".format(re.sub('Python','?','Hello hey!')))\n",
    "\n",
    "pattern_compile=re.compile('hey')\n",
    "print(\"pattern_compile.findall('Hello,,,,,,hey!')->{}\".format(pattern_compile.findall('Hello,,,,,,hey!')))\n",
    "\n",
    "if re.match('h','hey'):\n",
    "    print(\"re.match('h','hey')->found it!\")\n"
   ]
  },
  {
   "cell_type": "code",
   "execution_count": 67,
   "id": "3db6e6e3-9f56-4daa-a33b-8c366b28766c",
   "metadata": {},
   "outputs": [
    {
     "name": "stdout",
     "output_type": "stream",
     "text": [
      "'python'.find('py')->0\n",
      "'python'.find('thon')->2\n",
      "'python'.find('d')->-1\n",
      "'o' in 'python'->True\n"
     ]
    }
   ],
   "source": [
    "print(\"\\'python\\'.find(\\'py\\')->{}\".format('python'.find('py')))\n",
    "print(\"\\'python\\'.find(\\'thon\\')->{}\".format('python'.find('thon')))\n",
    "print(\"\\'python\\'.find(\\'d\\')->{}\".format('python'.find('d ')))\n",
    "print(\"\\'o\\' in \\'python\\'->{}\".format('o' in 'python'))\n"
   ]
  },
  {
   "cell_type": "code",
   "execution_count": 72,
   "id": "94907dd0-3204-4d54-a6a5-fa3f4639c645",
   "metadata": {},
   "outputs": [
    {
     "name": "stdout",
     "output_type": "stream",
     "text": [
      "'Hello?????Python!'.split('?')->['Hello', '', '', '', '', 'Python!']\n",
      "'Hello Python!'.replace('Python','oh')->Hello oh!\n"
     ]
    }
   ],
   "source": [
    "print(\"\\'Hello?????Python!\\'.split('?')->{}\".format( 'Hello?????Python!'.split('?')))\n",
    "print(\"\\'Hello Python!\\'.replace(\\'Python\\',\\'oh\\')->{}\".format( 'Hello Python!'.replace('Python','oh')))\n"
   ]
  },
  {
   "cell_type": "code",
   "execution_count": 74,
   "id": "8c0365b8-e903-4451-b641-e33a50f45f33",
   "metadata": {},
   "outputs": [
    {
     "name": "stdout",
     "output_type": "stream",
     "text": [
      "match_1.gourp(1)->pornhub\n",
      "match_1.start(1)->4\n",
      "match_1.end(1)->11\n",
      "match_1.span(1)->(4, 11)\n",
      "match_2.group(1)->pornhub\n",
      "match_2.group(2)->org\n"
     ]
    }
   ],
   "source": [
    "match_1=re.match(r'www\\.(.*)\\..{3}','www.pornhub.org')\n",
    "print(\"match_1.gourp(1)->{}\".format(match_1.group(1)))\n",
    "print(\"match_1.start(1)->{}\".format(match_1.start(1)))\n",
    "print(\"match_1.end(1)->{}\".format(match_1.end(1)))\n",
    "print(\"match_1.span(1)->{}\".format(match_1.span(1)))\n",
    "match_2=re.match(r'www\\.(.*)\\.(.{3})','www.pornhub.org')\n",
    "print(\"match_2.group(1)->{}\".format(match_2.group(1)))\n",
    "print(\"match_2.group(2)->{}\".format(match_2.group(2)))\n"
   ]
  },
  {
   "cell_type": "code",
   "execution_count": 78,
   "id": "70d17eb3-0ebc-43f5-aa13-472b837c214d",
   "metadata": {},
   "outputs": [
    {
     "name": "stdout",
     "output_type": "stream",
     "text": [
      "lst_1=[11, 13, 15, 17, 19, 21, 23, 25, 27, 29, 31, 33, 35, 37]\n",
      "_____\n",
      "for i in lst_1:\n",
      "11\n",
      "13\n",
      "15\n",
      "17\n",
      "19\n",
      "21\n",
      "23\n",
      "25\n",
      "27\n",
      "29\n",
      "31\n",
      "33\n",
      "35\n",
      "37\n",
      "for i in range(len(lst_1)):\n",
      "idx=0,val=11\n",
      "idx=1,val=13\n",
      "idx=2,val=15\n",
      "idx=3,val=17\n",
      "idx=4,val=19\n",
      "idx=5,val=21\n",
      "idx=6,val=23\n",
      "idx=7,val=25\n",
      "idx=8,val=27\n",
      "idx=9,val=29\n",
      "idx=10,val=31\n",
      "idx=11,val=33\n",
      "idx=12,val=35\n",
      "idx=13,val=37\n",
      "+++++\n",
      "dic_4={'a': 1, 'b': 4, 'c': 5, 'd': 7}\n",
      "_____\n",
      "for k in dic_4:\n",
      "a\n",
      "b\n",
      "c\n",
      "d\n",
      "for k,v in dic_4.items():\n",
      "key=a,val=1\n",
      "key=b,val=4\n",
      "key=c,val=5\n",
      "key=d,val=7\n"
     ]
    }
   ],
   "source": [
    "lst_1=list(range(11,39,2))\n",
    "print(\"lst_1={}\".format(lst_1))\n",
    "print(\"_\"*5)\n",
    "print(\"for i in lst_1:\")\n",
    "for i in lst_1:\n",
    "    print(i)\n",
    "print(\"for i in range(len(lst_1)):\")\n",
    "for i in range(len(lst_1)):\n",
    "    print(\"idx={},val={}\".format(i,lst_1[i]))\n",
    "print(\"+\"*5)   \n",
    "dic_4=dict(a=1,b=4,c=5,d=7)\n",
    "print(\"dic_4={}\".format(dic_4))\n",
    "print(\"_\"*5)\n",
    "print(\"for k in dic_4:\")\n",
    "for k in dic_4:\n",
    "    print(k)\n",
    "print(\"for k,v in dic_4.items():\")\n",
    "for k,v in dic_4.items():\n",
    "    print(\"key={},val={}\".format(k,v))\n"
   ]
  },
  {
   "cell_type": "code",
   "execution_count": 81,
   "id": "c2bbedfc-1b78-4e4e-a56c-0f7a992957cb",
   "metadata": {},
   "outputs": [
    {
     "name": "stdout",
     "output_type": "stream",
     "text": [
      "x=1\n",
      "x=6\n",
      "x=11\n",
      "x=16\n",
      "x=21\n",
      "x=26\n",
      "x=31\n",
      "x=36\n",
      "x=41\n",
      "x=46\n",
      "x=51\n",
      "x=56\n",
      "x=61\n",
      "x=66\n",
      "x=71\n",
      "x=76\n",
      "x=81\n",
      "x=86\n",
      "x=91\n",
      "x=96\n",
      "x=101\n",
      "x=106\n",
      "x=111\n",
      "x=116\n",
      "x=121\n",
      "x=126\n",
      "x=131\n",
      "x=136\n",
      "x=141\n",
      "x=146\n",
      "x=151\n",
      "x=156\n",
      "x=161\n",
      "x=166\n",
      "x=171\n",
      "x=176\n"
     ]
    }
   ],
   "source": [
    "x=1\n",
    "while x<=180:\n",
    "    print(\"x={}\".format(x))\n",
    "    x+=5 #增量赋值; x*=2     \n"
   ]
  },
  {
   "cell_type": "code",
   "execution_count": 84,
   "id": "74cf1382-8b6b-4288-88a7-90346c6c4c94",
   "metadata": {},
   "outputs": [
    {
     "name": "stdout",
     "output_type": "stream",
     "text": [
      "x=6\n",
      "x=12\n",
      "x=18\n",
      "x=24\n",
      "x=30\n",
      "x=36\n",
      "x=42\n",
      "x=48\n",
      "x=54\n",
      "x=60\n",
      "x=66\n",
      "sys.maxsize=9223372036854775807\n",
      "i=0\n",
      "i=1\n",
      "i=2\n",
      "i=3\n",
      "i=4\n",
      "i=5\n",
      "i=6\n",
      "i=7\n",
      "i=8\n",
      "i=9\n",
      "i=10\n",
      "i=11\n",
      "i=12\n",
      "i=13\n",
      "i=14\n",
      "i=15\n",
      "i=16\n",
      "i=17\n",
      "i=18\n",
      "i=19\n",
      "i=20\n",
      "i=21\n",
      "i=22\n",
      "i=23\n",
      "i=24\n",
      "i=25\n",
      "i=26\n",
      "i=27\n",
      "i=28\n",
      "i=29\n",
      "i=30\n",
      "i=31\n",
      "i=32\n",
      "i=33\n",
      "i=34\n",
      "i=35\n",
      "i=36\n",
      "i=37\n",
      "i=38\n",
      "i=39\n",
      "i=40\n",
      "i=41\n",
      "i=42\n",
      "i=43\n",
      "i=44\n",
      "i=45\n",
      "i=46\n",
      "i=47\n"
     ]
    }
   ],
   "source": [
    "x=6\n",
    "while x<=99:\n",
    "    print(\"x={}\".format(x))\n",
    "    x+=6 \n",
    "    if x>=70:break    \n",
    "    \n",
    "import sys\n",
    "print(\"sys.maxsize={}\".format(sys.maxsize))\n",
    "for i in range(sys.maxsize):\n",
    "    print(\"i={}\".format(i))  #?\n",
    "    i+=8\n",
    "    if i>=55:break\n"
   ]
  },
  {
   "cell_type": "code",
   "execution_count": 113,
   "id": "4a6b0045-2c88-4c58-812d-83b5a574c04f",
   "metadata": {},
   "outputs": [
    {
     "ename": "FileNotFoundError",
     "evalue": "[Errno 2] No such file or directory: './data/elevation.txt'",
     "output_type": "error",
     "traceback": [
      "\u001b[1;31m---------------------------------------------------------------------------\u001b[0m",
      "\u001b[1;31mFileNotFoundError\u001b[0m                         Traceback (most recent call last)",
      "\u001b[1;32m<ipython-input-113-af066ed9c266>\u001b[0m in \u001b[0;36m<module>\u001b[1;34m\u001b[0m\n\u001b[0;32m      1\u001b[0m \u001b[0mtopography_fp\u001b[0m\u001b[1;33m=\u001b[0m\u001b[1;34m'./data/elevation.txt'\u001b[0m \u001b[1;31m#在处理GIS时，更多的是使用GeoPandas等处理地理信息的库;另，大数据的存储读取通常用Numpy,(Geo)Pandas提供的方法，以及HDF5(binary data format)。\u001b[0m\u001b[1;33m\u001b[0m\u001b[1;33m\u001b[0m\u001b[0m\n\u001b[1;32m----> 2\u001b[1;33m \u001b[0mf\u001b[0m\u001b[1;33m=\u001b[0m\u001b[0mopen\u001b[0m\u001b[1;33m(\u001b[0m\u001b[0mtopography_fp\u001b[0m\u001b[1;33m,\u001b[0m\u001b[1;34m'r'\u001b[0m\u001b[1;33m)\u001b[0m\u001b[1;33m\u001b[0m\u001b[1;33m\u001b[0m\u001b[0m\n\u001b[0m\u001b[0;32m      3\u001b[0m \u001b[0melevation_dat\u001b[0m\u001b[1;33m=\u001b[0m\u001b[1;33m[\u001b[0m\u001b[1;33m]\u001b[0m\u001b[1;33m\u001b[0m\u001b[1;33m\u001b[0m\u001b[0m\n\u001b[0;32m      4\u001b[0m \u001b[1;32mwhile\u001b[0m \u001b[1;32mTrue\u001b[0m\u001b[1;33m:\u001b[0m\u001b[1;33m\u001b[0m\u001b[1;33m\u001b[0m\u001b[0m\n\u001b[0;32m      5\u001b[0m     \u001b[0mline\u001b[0m\u001b[1;33m=\u001b[0m\u001b[0mf\u001b[0m\u001b[1;33m.\u001b[0m\u001b[0mreadline\u001b[0m\u001b[1;33m(\u001b[0m\u001b[1;33m)\u001b[0m\u001b[1;33m\u001b[0m\u001b[1;33m\u001b[0m\u001b[0m\n",
      "\u001b[1;31mFileNotFoundError\u001b[0m: [Errno 2] No such file or directory: './data/elevation.txt'"
     ]
    }
   ],
   "source": [
    "topography_fp='./data/elevation.txt' #在处理GIS时，更多的是使用GeoPandas等处理地理信息的库;另，大数据的存储读取通常用Numpy,(Geo)Pandas提供的方法，以及HDF5(binary data format)。\n",
    "f=open(topography_fp,'r')\n",
    "elevation_dat=[]\n",
    "while True:\n",
    "    line=f.readline()\n",
    "    elevation_dat.append(line)\n",
    "    if not line:break\n",
    "f.close()\n",
    "print(\"elevation_dat[:10]={}\".format(elevation_dat[:10]))\n"
   ]
  },
  {
   "cell_type": "code",
   "execution_count": 116,
   "id": "6f786aba-6d52-4704-85b5-9c2d3fbfff72",
   "metadata": {},
   "outputs": [
    {
     "ename": "FileNotFoundError",
     "evalue": "[Errno 2] No such file or directory: './data/elevation.txt'",
     "output_type": "error",
     "traceback": [
      "\u001b[1;31m---------------------------------------------------------------------------\u001b[0m",
      "\u001b[1;31mFileNotFoundError\u001b[0m                         Traceback (most recent call last)",
      "\u001b[1;32m<ipython-input-116-8ebfaf1f6d25>\u001b[0m in \u001b[0;36m<module>\u001b[1;34m\u001b[0m\n\u001b[0;32m      1\u001b[0m \u001b[1;32mimport\u001b[0m \u001b[0mpandas\u001b[0m \u001b[1;32mas\u001b[0m \u001b[0mpd\u001b[0m\u001b[1;33m\u001b[0m\u001b[1;33m\u001b[0m\u001b[0m\n\u001b[1;32m----> 2\u001b[1;33m \u001b[0melevation_df\u001b[0m\u001b[1;33m=\u001b[0m\u001b[0mpd\u001b[0m\u001b[1;33m.\u001b[0m\u001b[0mread_csv\u001b[0m\u001b[1;33m(\u001b[0m\u001b[0mtopography_fp\u001b[0m\u001b[1;33m,\u001b[0m \u001b[0mdelimiter\u001b[0m \u001b[1;33m=\u001b[0m \u001b[1;34m\",\"\u001b[0m\u001b[1;33m,\u001b[0m\u001b[0mheader\u001b[0m\u001b[1;33m=\u001b[0m\u001b[1;32mNone\u001b[0m\u001b[1;33m)\u001b[0m\u001b[1;33m\u001b[0m\u001b[1;33m\u001b[0m\u001b[0m\n\u001b[0m\u001b[0;32m      3\u001b[0m \u001b[0mprint\u001b[0m\u001b[1;33m(\u001b[0m\u001b[0melevation_df\u001b[0m\u001b[1;33m)\u001b[0m\u001b[1;33m\u001b[0m\u001b[1;33m\u001b[0m\u001b[0m\n",
      "\u001b[1;32m~\\anaconda3\\lib\\site-packages\\pandas\\io\\parsers.py\u001b[0m in \u001b[0;36mread_csv\u001b[1;34m(filepath_or_buffer, sep, delimiter, header, names, index_col, usecols, squeeze, prefix, mangle_dupe_cols, dtype, engine, converters, true_values, false_values, skipinitialspace, skiprows, skipfooter, nrows, na_values, keep_default_na, na_filter, verbose, skip_blank_lines, parse_dates, infer_datetime_format, keep_date_col, date_parser, dayfirst, cache_dates, iterator, chunksize, compression, thousands, decimal, lineterminator, quotechar, quoting, doublequote, escapechar, comment, encoding, dialect, error_bad_lines, warn_bad_lines, delim_whitespace, low_memory, memory_map, float_precision, storage_options)\u001b[0m\n\u001b[0;32m    608\u001b[0m     \u001b[0mkwds\u001b[0m\u001b[1;33m.\u001b[0m\u001b[0mupdate\u001b[0m\u001b[1;33m(\u001b[0m\u001b[0mkwds_defaults\u001b[0m\u001b[1;33m)\u001b[0m\u001b[1;33m\u001b[0m\u001b[1;33m\u001b[0m\u001b[0m\n\u001b[0;32m    609\u001b[0m \u001b[1;33m\u001b[0m\u001b[0m\n\u001b[1;32m--> 610\u001b[1;33m     \u001b[1;32mreturn\u001b[0m \u001b[0m_read\u001b[0m\u001b[1;33m(\u001b[0m\u001b[0mfilepath_or_buffer\u001b[0m\u001b[1;33m,\u001b[0m \u001b[0mkwds\u001b[0m\u001b[1;33m)\u001b[0m\u001b[1;33m\u001b[0m\u001b[1;33m\u001b[0m\u001b[0m\n\u001b[0m\u001b[0;32m    611\u001b[0m \u001b[1;33m\u001b[0m\u001b[0m\n\u001b[0;32m    612\u001b[0m \u001b[1;33m\u001b[0m\u001b[0m\n",
      "\u001b[1;32m~\\anaconda3\\lib\\site-packages\\pandas\\io\\parsers.py\u001b[0m in \u001b[0;36m_read\u001b[1;34m(filepath_or_buffer, kwds)\u001b[0m\n\u001b[0;32m    460\u001b[0m \u001b[1;33m\u001b[0m\u001b[0m\n\u001b[0;32m    461\u001b[0m     \u001b[1;31m# Create the parser.\u001b[0m\u001b[1;33m\u001b[0m\u001b[1;33m\u001b[0m\u001b[1;33m\u001b[0m\u001b[0m\n\u001b[1;32m--> 462\u001b[1;33m     \u001b[0mparser\u001b[0m \u001b[1;33m=\u001b[0m \u001b[0mTextFileReader\u001b[0m\u001b[1;33m(\u001b[0m\u001b[0mfilepath_or_buffer\u001b[0m\u001b[1;33m,\u001b[0m \u001b[1;33m**\u001b[0m\u001b[0mkwds\u001b[0m\u001b[1;33m)\u001b[0m\u001b[1;33m\u001b[0m\u001b[1;33m\u001b[0m\u001b[0m\n\u001b[0m\u001b[0;32m    463\u001b[0m \u001b[1;33m\u001b[0m\u001b[0m\n\u001b[0;32m    464\u001b[0m     \u001b[1;32mif\u001b[0m \u001b[0mchunksize\u001b[0m \u001b[1;32mor\u001b[0m \u001b[0miterator\u001b[0m\u001b[1;33m:\u001b[0m\u001b[1;33m\u001b[0m\u001b[1;33m\u001b[0m\u001b[0m\n",
      "\u001b[1;32m~\\anaconda3\\lib\\site-packages\\pandas\\io\\parsers.py\u001b[0m in \u001b[0;36m__init__\u001b[1;34m(self, f, engine, **kwds)\u001b[0m\n\u001b[0;32m    817\u001b[0m             \u001b[0mself\u001b[0m\u001b[1;33m.\u001b[0m\u001b[0moptions\u001b[0m\u001b[1;33m[\u001b[0m\u001b[1;34m\"has_index_names\"\u001b[0m\u001b[1;33m]\u001b[0m \u001b[1;33m=\u001b[0m \u001b[0mkwds\u001b[0m\u001b[1;33m[\u001b[0m\u001b[1;34m\"has_index_names\"\u001b[0m\u001b[1;33m]\u001b[0m\u001b[1;33m\u001b[0m\u001b[1;33m\u001b[0m\u001b[0m\n\u001b[0;32m    818\u001b[0m \u001b[1;33m\u001b[0m\u001b[0m\n\u001b[1;32m--> 819\u001b[1;33m         \u001b[0mself\u001b[0m\u001b[1;33m.\u001b[0m\u001b[0m_engine\u001b[0m \u001b[1;33m=\u001b[0m \u001b[0mself\u001b[0m\u001b[1;33m.\u001b[0m\u001b[0m_make_engine\u001b[0m\u001b[1;33m(\u001b[0m\u001b[0mself\u001b[0m\u001b[1;33m.\u001b[0m\u001b[0mengine\u001b[0m\u001b[1;33m)\u001b[0m\u001b[1;33m\u001b[0m\u001b[1;33m\u001b[0m\u001b[0m\n\u001b[0m\u001b[0;32m    820\u001b[0m \u001b[1;33m\u001b[0m\u001b[0m\n\u001b[0;32m    821\u001b[0m     \u001b[1;32mdef\u001b[0m \u001b[0mclose\u001b[0m\u001b[1;33m(\u001b[0m\u001b[0mself\u001b[0m\u001b[1;33m)\u001b[0m\u001b[1;33m:\u001b[0m\u001b[1;33m\u001b[0m\u001b[1;33m\u001b[0m\u001b[0m\n",
      "\u001b[1;32m~\\anaconda3\\lib\\site-packages\\pandas\\io\\parsers.py\u001b[0m in \u001b[0;36m_make_engine\u001b[1;34m(self, engine)\u001b[0m\n\u001b[0;32m   1048\u001b[0m             )\n\u001b[0;32m   1049\u001b[0m         \u001b[1;31m# error: Too many arguments for \"ParserBase\"\u001b[0m\u001b[1;33m\u001b[0m\u001b[1;33m\u001b[0m\u001b[1;33m\u001b[0m\u001b[0m\n\u001b[1;32m-> 1050\u001b[1;33m         \u001b[1;32mreturn\u001b[0m \u001b[0mmapping\u001b[0m\u001b[1;33m[\u001b[0m\u001b[0mengine\u001b[0m\u001b[1;33m]\u001b[0m\u001b[1;33m(\u001b[0m\u001b[0mself\u001b[0m\u001b[1;33m.\u001b[0m\u001b[0mf\u001b[0m\u001b[1;33m,\u001b[0m \u001b[1;33m**\u001b[0m\u001b[0mself\u001b[0m\u001b[1;33m.\u001b[0m\u001b[0moptions\u001b[0m\u001b[1;33m)\u001b[0m  \u001b[1;31m# type: ignore[call-arg]\u001b[0m\u001b[1;33m\u001b[0m\u001b[1;33m\u001b[0m\u001b[0m\n\u001b[0m\u001b[0;32m   1051\u001b[0m \u001b[1;33m\u001b[0m\u001b[0m\n\u001b[0;32m   1052\u001b[0m     \u001b[1;32mdef\u001b[0m \u001b[0m_failover_to_python\u001b[0m\u001b[1;33m(\u001b[0m\u001b[0mself\u001b[0m\u001b[1;33m)\u001b[0m\u001b[1;33m:\u001b[0m\u001b[1;33m\u001b[0m\u001b[1;33m\u001b[0m\u001b[0m\n",
      "\u001b[1;32m~\\anaconda3\\lib\\site-packages\\pandas\\io\\parsers.py\u001b[0m in \u001b[0;36m__init__\u001b[1;34m(self, src, **kwds)\u001b[0m\n\u001b[0;32m   1865\u001b[0m \u001b[1;33m\u001b[0m\u001b[0m\n\u001b[0;32m   1866\u001b[0m         \u001b[1;31m# open handles\u001b[0m\u001b[1;33m\u001b[0m\u001b[1;33m\u001b[0m\u001b[1;33m\u001b[0m\u001b[0m\n\u001b[1;32m-> 1867\u001b[1;33m         \u001b[0mself\u001b[0m\u001b[1;33m.\u001b[0m\u001b[0m_open_handles\u001b[0m\u001b[1;33m(\u001b[0m\u001b[0msrc\u001b[0m\u001b[1;33m,\u001b[0m \u001b[0mkwds\u001b[0m\u001b[1;33m)\u001b[0m\u001b[1;33m\u001b[0m\u001b[1;33m\u001b[0m\u001b[0m\n\u001b[0m\u001b[0;32m   1868\u001b[0m         \u001b[1;32massert\u001b[0m \u001b[0mself\u001b[0m\u001b[1;33m.\u001b[0m\u001b[0mhandles\u001b[0m \u001b[1;32mis\u001b[0m \u001b[1;32mnot\u001b[0m \u001b[1;32mNone\u001b[0m\u001b[1;33m\u001b[0m\u001b[1;33m\u001b[0m\u001b[0m\n\u001b[0;32m   1869\u001b[0m         \u001b[1;32mfor\u001b[0m \u001b[0mkey\u001b[0m \u001b[1;32min\u001b[0m \u001b[1;33m(\u001b[0m\u001b[1;34m\"storage_options\"\u001b[0m\u001b[1;33m,\u001b[0m \u001b[1;34m\"encoding\"\u001b[0m\u001b[1;33m,\u001b[0m \u001b[1;34m\"memory_map\"\u001b[0m\u001b[1;33m,\u001b[0m \u001b[1;34m\"compression\"\u001b[0m\u001b[1;33m)\u001b[0m\u001b[1;33m:\u001b[0m\u001b[1;33m\u001b[0m\u001b[1;33m\u001b[0m\u001b[0m\n",
      "\u001b[1;32m~\\anaconda3\\lib\\site-packages\\pandas\\io\\parsers.py\u001b[0m in \u001b[0;36m_open_handles\u001b[1;34m(self, src, kwds)\u001b[0m\n\u001b[0;32m   1360\u001b[0m         \u001b[0mLet\u001b[0m \u001b[0mthe\u001b[0m \u001b[0mreaders\u001b[0m \u001b[0mopen\u001b[0m \u001b[0mIOHanldes\u001b[0m \u001b[0mafter\u001b[0m \u001b[0mthey\u001b[0m \u001b[0mare\u001b[0m \u001b[0mdone\u001b[0m \u001b[1;32mwith\u001b[0m \u001b[0mtheir\u001b[0m \u001b[0mpotential\u001b[0m \u001b[0mraises\u001b[0m\u001b[1;33m.\u001b[0m\u001b[1;33m\u001b[0m\u001b[1;33m\u001b[0m\u001b[0m\n\u001b[0;32m   1361\u001b[0m         \"\"\"\n\u001b[1;32m-> 1362\u001b[1;33m         self.handles = get_handle(\n\u001b[0m\u001b[0;32m   1363\u001b[0m             \u001b[0msrc\u001b[0m\u001b[1;33m,\u001b[0m\u001b[1;33m\u001b[0m\u001b[1;33m\u001b[0m\u001b[0m\n\u001b[0;32m   1364\u001b[0m             \u001b[1;34m\"r\"\u001b[0m\u001b[1;33m,\u001b[0m\u001b[1;33m\u001b[0m\u001b[1;33m\u001b[0m\u001b[0m\n",
      "\u001b[1;32m~\\anaconda3\\lib\\site-packages\\pandas\\io\\common.py\u001b[0m in \u001b[0;36mget_handle\u001b[1;34m(path_or_buf, mode, encoding, compression, memory_map, is_text, errors, storage_options)\u001b[0m\n\u001b[0;32m    640\u001b[0m                 \u001b[0merrors\u001b[0m \u001b[1;33m=\u001b[0m \u001b[1;34m\"replace\"\u001b[0m\u001b[1;33m\u001b[0m\u001b[1;33m\u001b[0m\u001b[0m\n\u001b[0;32m    641\u001b[0m             \u001b[1;31m# Encoding\u001b[0m\u001b[1;33m\u001b[0m\u001b[1;33m\u001b[0m\u001b[1;33m\u001b[0m\u001b[0m\n\u001b[1;32m--> 642\u001b[1;33m             handle = open(\n\u001b[0m\u001b[0;32m    643\u001b[0m                 \u001b[0mhandle\u001b[0m\u001b[1;33m,\u001b[0m\u001b[1;33m\u001b[0m\u001b[1;33m\u001b[0m\u001b[0m\n\u001b[0;32m    644\u001b[0m                 \u001b[0mioargs\u001b[0m\u001b[1;33m.\u001b[0m\u001b[0mmode\u001b[0m\u001b[1;33m,\u001b[0m\u001b[1;33m\u001b[0m\u001b[1;33m\u001b[0m\u001b[0m\n",
      "\u001b[1;31mFileNotFoundError\u001b[0m: [Errno 2] No such file or directory: './data/elevation.txt'"
     ]
    }
   ],
   "source": [
    "import pandas as pd\n",
    "elevation_df=pd.read_csv(topography_fp, delimiter = \",\",header=None) \n",
    "print(elevation_df)\n"
   ]
  },
  {
   "cell_type": "code",
   "execution_count": 117,
   "id": "9202c2b8-68e9-46c4-a744-b0e77cafe3d9",
   "metadata": {},
   "outputs": [
    {
     "name": "stdout",
     "output_type": "stream",
     "text": [
      "zip_lst=zip(lst_a,lst_b)-><zip object at 0x000002869F8A0DC0>\n",
      "dict(zip_lst)->{3: 'point_a', 4: 'point_b', 5: 'point_c', 6: 'point_d'}\n",
      "3 point_a\n",
      "4 point_b\n",
      "5 point_c\n",
      "6 point_d\n",
      "a=(3, 4, 5, 6),b=('point_a', 'point_b', 'point_c', 'point_d')\n"
     ]
    }
   ],
   "source": [
    "lst_a=[3,4,5,6]\n",
    "lst_b=['point_a','point_b','point_c','point_d']\n",
    "zip_lst=zip(lst_a,lst_b) #The zip() function takes iterables (can be zero or more), aggregates them in a tuple, and returns it.\n",
    "print(\"zip_lst=zip(lst_a,lst_b)->{}\".format(zip_lst))\n",
    "print(\"dict(zip_lst)->{}\".format(dict(zip_lst)))\n",
    "\n",
    "zip_lst=zip(lst_a,lst_b) #迭代对象临时存储，读取完后为空\n",
    "for a,b in zip_lst:\n",
    "    print(a,b)\n",
    "    \n",
    "zip_lst=zip(lst_a,lst_b)\n",
    "a,b=zip(*zip_lst)\n",
    "print(\"a={},b={}\".format(a,b))\n"
   ]
  },
  {
   "cell_type": "code",
   "execution_count": 121,
   "id": "d10f8f68-dc3e-47c9-8df7-f5e62da992f7",
   "metadata": {},
   "outputs": [
    {
     "name": "stdout",
     "output_type": "stream",
     "text": [
      "[x*x for x in range(3,46,5) if x%2==0]->[64, 324, 784, 1444]\n",
      "[(x,y) for x in range(3)for y in range(2)]->[(0, 0), (0, 1), (1, 0), (1, 1), (2, 0), (2, 1)]\n",
      "[(x,y) for x,y in zip(range(3),range(2))]->[(0, 0), (1, 1)]\n",
      "[[a for a in range(1,10,3)],2,3,[b for b in range(60,200,7)],[[c for c in range(1000,2000,100)],3,9]]->[[1, 4, 7], 2, 3, [60, 67, 74, 81, 88, 95, 102, 109, 116, 123, 130, 137, 144, 151, 158, 165, 172, 179, 186, 193], [[1000, 1100, 1200, 1300, 1400, 1500, 1600, 1700, 1800, 1900], 3, 9]]\n",
      "flatten_lst(nested_list)->[1, 4, 7, 2, 3, 60, 67, 74, 81, 88, 95, 102, 109, 116, 123, 130, 137, 144, 151, 158, 165, 172, 179, 186, 193, 1000, 1100, 1200, 1300, 1400, 1500, 1600, 1700, 1800, 1900, 3, 9]\n"
     ]
    }
   ],
   "source": [
    "print(\"[x*x for x in range(3,46,5) if x%2==0]->{}\".format([x*x for x in range(3,46,5) if x%2==0]))\n",
    "print(\"[(x,y) for x in range(3)for y in range(2)]->{}\".format([(x,y) for x in range(3)for y in range(2)]))\n",
    "print(\"[(x,y) for x,y in zip(range(3),range(2))]->{}\".format([(x,y) for x,y in zip(range(3),range(2))]))\n",
    "nested_list=[[a for a in range(1,10,3)],2,3,[b for b in range(60,200,7)],[[c for c in range(1000,2000,100)],3,9]]\n",
    "print(\"[[a for a in range(1,10,3)],2,3,[b for b in range(60,200,7)],[[c for c in range(1000,2000,100)],3,9]]->{}\".format(nested_list)) #嵌套列表推导式\n",
    "\n",
    "flatten_lst=lambda lst: [m for n_lst in lst for m in flatten_lst(n_lst)] if type(lst) is list else [lst] #展平列表常用，可以放置到单独的.py文件中调用。lambda函数后文阐述\n",
    "print(\"flatten_lst(nested_list)->{}\".format(flatten_lst(nested_list)))\n"
   ]
  },
  {
   "cell_type": "code",
   "execution_count": 123,
   "id": "a8e4051f-7a8e-457a-8f6a-f9d8c5e1fc73",
   "metadata": {},
   "outputs": [
    {
     "name": "stdout",
     "output_type": "stream",
     "text": [
      "Positive and larger than or equal to 80.\n"
     ]
    }
   ],
   "source": [
    "x=80\n",
    "if x<0:\n",
    "    print('It is negative.')\n",
    "elif x==0:\n",
    "    print('Equal to zero.')\n",
    "elif 0<x<80:\n",
    "    print('Positive but smaller than 80')\n",
    "else:\n",
    "    print('Positive and larger than or equal to 80.')\n"
   ]
  },
  {
   "cell_type": "code",
   "execution_count": 125,
   "id": "f34ecefe-2a06-44ca-b7c6-cc49feeb8a16",
   "metadata": {},
   "outputs": [
    {
     "name": "stdout",
     "output_type": "stream",
     "text": [
      "x==y->True\n",
      "x is y->True\n",
      "x==z->False\n",
      "x is z->False\n",
      "x is not y->False\n",
      "x is not z->True\n",
      "id_x:2777225585536;id_y:2777225585536;id_z:2777225585088\n",
      "x=[1, 4],y=[1, 4],z=[3, 6, 9] after del x[2]\n"
     ]
    }
   ],
   "source": [
    "x=y=[1,4,7]\n",
    "z=[3,6,9]\n",
    "print(\"x==y->{}\".format(x==y))\n",
    "print(\"x is y->{}\".format(x is y))\n",
    "print(\"x==z->{}\".format(x==z))\n",
    "print(\"x is z->{}\".format(x is z))\n",
    "print(\"x is not y->{}\".format(x is not y))\n",
    "print(\"x is not z->{}\".format(x is not z))\n",
    "print(\"id_x:{};id_y:{};id_z:{}\".format(id(x),id(y),id(z))) #Memory Location\n",
    "\n",
    "del x[2]\n",
    "print(\"x={},y={},z={} after del x[2]\".format(x,y,z))\n"
   ]
  },
  {
   "cell_type": "code",
   "execution_count": 127,
   "id": "eb3db7f1-bfdb-46dc-9f58-385424a89f58",
   "metadata": {},
   "outputs": [
    {
     "name": "stdout",
     "output_type": "stream",
     "text": [
      "3 in x->False\n",
      "0 in x->False\n",
      "3 not in x->True\n",
      "0 not in x->True\n"
     ]
    }
   ],
   "source": [
    "x=[2,5,8]\n",
    "print(\"3 in x->{}\".format(3 in x))\n",
    "print(\"0 in x->{}\".format(0 in x))\n",
    "print(\"3 not in x->{}\".format(3 not in x))\n",
    "print(\"0 not in x->{}\".format(0 not in x))\n"
   ]
  },
  {
   "cell_type": "code",
   "execution_count": 130,
   "id": "e0fc346c-9d63-44e2-8700-68689d58d408",
   "metadata": {},
   "outputs": [
    {
     "name": "stdout",
     "output_type": "stream",
     "text": [
      "a<c<b impossible\n"
     ]
    }
   ],
   "source": [
    "a,b,c=0,1,2\n",
    "if c>a and c<b:\n",
    "    print('a<c<b')\n",
    "else: print('a<c<b impossible')\n"
   ]
  },
  {
   "cell_type": "code",
   "execution_count": 135,
   "id": "037df805-85e6-4fd1-a78c-2e9bc633c29e",
   "metadata": {},
   "outputs": [
    {
     "name": "stdout",
     "output_type": "stream",
     "text": [
      "simple_func(2,8)->12\n",
      "simple_func(8,2)->66\n",
      "simple_func(y=8,x=2)->12\n"
     ]
    }
   ],
   "source": [
    "print(\"simple_func(2,8)->{}\".format(simple_func(2,8)))\n",
    "print(\"simple_func(8,2)->{}\".format(simple_func(8,2)))\n",
    "print(\"simple_func(y=8,x=2)->{}\".format(simple_func(y=8,x=2)))\n",
    "\n"
   ]
  },
  {
   "cell_type": "code",
   "execution_count": 139,
   "id": "9a4a5a2e-ba2f-499c-bfeb-b4f39dd7876b",
   "metadata": {},
   "outputs": [
    {
     "name": "stdout",
     "output_type": "stream",
     "text": [
      "fibonacci(6,9)->[7, 11, 18, 29, 47, 76, 123, 199, 322]\n",
      "fibonacci(7,9)->[7, 11, 18, 29, 47, 76, 123, 199, 322]\n"
     ]
    }
   ],
   "source": [
    "def fibonacci(s,count): #定义fib函数的方法较笨\n",
    "    fib_lst=[4,7]\n",
    "    fib_part=[]\n",
    "    if s==1 or s==0:\n",
    "        fib_part[:]=fib_lst\n",
    "        for i in range(count-2):\n",
    "            fib_part.append(fib_part[-1]+fib_part[-2])\n",
    "    else:\n",
    "        while True:\n",
    "            fib_lst[:]=[fib_lst[1],fib_lst[0]+fib_lst[1]]\n",
    "            #print(fib_lst)\n",
    "            if fib_lst[1]-s>=0:break\n",
    "        fib_part[:]=fib_lst\n",
    "        if abs(fib_lst[0]-s)>=abs(fib_lst[1]-s):\n",
    "            for i in range(count-1):\n",
    "                fib_part.append(fib_part[-1]+fib_part[-2])\n",
    "            fib_part.pop(0)\n",
    "        else:\n",
    "            for i in range(count-2):\n",
    "                fib_part.append(fib_part[-1]+fib_part[-2])\n",
    "    return fib_part\n",
    "\n",
    "print(\"fibonacci(6,9)->{}\".format(fibonacci(6,9)))\n",
    "print(\"fibonacci(7,9)->{}\".format(fibonacci(7,9)))\n"
   ]
  },
  {
   "cell_type": "code",
   "execution_count": 141,
   "id": "8576bdcb-bd97-4132-82a0-c9daed5d0ec3",
   "metadata": {},
   "outputs": [
    {
     "name": "stdout",
     "output_type": "stream",
     "text": [
      "6227020800\n"
     ]
    }
   ],
   "source": [
    "def factorial(n):\n",
    "    if n==1:\n",
    "        return 1\n",
    "    else:\n",
    "        return n*factorial(n-1)\n",
    "print(factorial(13))\n"
   ]
  },
  {
   "cell_type": "code",
   "execution_count": 144,
   "id": "ddaf9bc8-915c-4e72-a1b9-9755e0921da8",
   "metadata": {},
   "outputs": [
    {
     "name": "stdout",
     "output_type": "stream",
     "text": [
      "swift.fly->Whirring\n",
      "swift.eat()->\n",
      "Aaaah...\n",
      "swift.eat()->\n",
      "No.Thanks!\n",
      "swift.sing()->\n",
      "Squawk!\n"
     ]
    }
   ],
   "source": [
    "class Bird:\n",
    "    fly='Whirring' #美 /wɜːr/ \n",
    "    def __init__(self):\n",
    "        self.hungry=True\n",
    "    def eat(self):\n",
    "        if self.hungry:\n",
    "            print('Aaaah...')\n",
    "            self.hungry=False\n",
    "        else:\n",
    "            print('No.Thanks!')\n",
    "\n",
    "class Apodidae(Bird):  #/'æpədədi:/\n",
    "    def __init__(self):\n",
    "        super(Apodidae,self).__init__()\n",
    "        self.sound='Squawk!' #美 /skwɔːk/ \n",
    "    def sing(self):\n",
    "        print(self.sound)\n",
    "swift=Apodidae()\n",
    "print(\"swift.fly->{}\".format(swift.fly))\n",
    "print(\"swift.eat()->\")\n",
    "swift.eat()\n",
    "print(\"swift.eat()->\")\n",
    "swift.eat()\n",
    "print(\"swift.sing()->\")\n",
    "swift.sing()\n"
   ]
  },
  {
   "cell_type": "code",
   "execution_count": 145,
   "id": "68e9823e-0d8b-42b3-9e58-fc4c6f5b445c",
   "metadata": {},
   "outputs": [
    {
     "name": "stdout",
     "output_type": "stream",
     "text": [
      "blackswift.sing()->\n",
      "Squawk!\n",
      "scarceswift.sing()->\n",
      "Squawk!\n"
     ]
    }
   ],
   "source": [
    "blackswift=Apodidae()\n",
    "scarceswift=Apodidae()\n",
    "print(\"blackswift.sing()->\")\n",
    "blackswift.sing()\n",
    "print(\"scarceswift.sing()->\")\n",
    "scarceswift.sing()\n"
   ]
  },
  {
   "cell_type": "code",
   "execution_count": 147,
   "id": "9623bdc1-07d0-41d3-95c6-5f58d93053f5",
   "metadata": {},
   "outputs": [
    {
     "name": "stdout",
     "output_type": "stream",
     "text": [
      "eagle.fly->humming\n",
      "eagle.fly after redefining the eagle's attribute->humming\n",
      "eagle.fly->Whirring\n"
     ]
    }
   ],
   "source": [
    "print(\"eagle.fly->{}\".format(blackswift.fly))\n",
    "blackswift.fly='humming' #重新赋予实例的属性\n",
    "print(\"eagle.fly after redefining the eagle's attribute->{}\".format(blackswift.fly))\n",
    "print(\"eagle.fly->{}\".format(scarceswift.fly))\n"
   ]
  },
  {
   "cell_type": "code",
   "execution_count": 148,
   "id": "1ad940af-c8bf-4c5c-acc9-1fa34b85ea39",
   "metadata": {},
   "outputs": [
    {
     "name": "stdout",
     "output_type": "stream",
     "text": [
      "Squawk!\n"
     ]
    }
   ],
   "source": [
    "blackswift.sing()\n"
   ]
  },
  {
   "cell_type": "code",
   "execution_count": 149,
   "id": "99daa657-6f76-4dd2-a0b1-5d65f9798edb",
   "metadata": {},
   "outputs": [
    {
     "name": "stdout",
     "output_type": "stream",
     "text": [
      "Help on class Bird in module __main__:\n",
      "\n",
      "class Bird(builtins.object)\n",
      " |  Methods defined here:\n",
      " |  \n",
      " |  __init__(self)\n",
      " |      Initialize self.  See help(type(self)) for accurate signature.\n",
      " |  \n",
      " |  eat(self)\n",
      " |  \n",
      " |  ----------------------------------------------------------------------\n",
      " |  Data descriptors defined here:\n",
      " |  \n",
      " |  __dict__\n",
      " |      dictionary for instance variables (if defined)\n",
      " |  \n",
      " |  __weakref__\n",
      " |      list of weak references to the object (if defined)\n",
      " |  \n",
      " |  ----------------------------------------------------------------------\n",
      " |  Data and other attributes defined here:\n",
      " |  \n",
      " |  fly = 'Whirring'\n",
      "\n"
     ]
    }
   ],
   "source": [
    "help(Bird)\n"
   ]
  },
  {
   "cell_type": "code",
   "execution_count": 150,
   "id": "d75350cc-567c-4c95-a5e3-9175595eba9b",
   "metadata": {},
   "outputs": [
    {
     "name": "stdout",
     "output_type": "stream",
     "text": [
      "Help on class Apodidae in module __main__:\n",
      "\n",
      "class Apodidae(Bird)\n",
      " |  Method resolution order:\n",
      " |      Apodidae\n",
      " |      Bird\n",
      " |      builtins.object\n",
      " |  \n",
      " |  Methods defined here:\n",
      " |  \n",
      " |  __init__(self)\n",
      " |      Initialize self.  See help(type(self)) for accurate signature.\n",
      " |  \n",
      " |  sing(self)\n",
      " |  \n",
      " |  ----------------------------------------------------------------------\n",
      " |  Methods inherited from Bird:\n",
      " |  \n",
      " |  eat(self)\n",
      " |  \n",
      " |  ----------------------------------------------------------------------\n",
      " |  Data descriptors inherited from Bird:\n",
      " |  \n",
      " |  __dict__\n",
      " |      dictionary for instance variables (if defined)\n",
      " |  \n",
      " |  __weakref__\n",
      " |      list of weak references to the object (if defined)\n",
      " |  \n",
      " |  ----------------------------------------------------------------------\n",
      " |  Data and other attributes inherited from Bird:\n",
      " |  \n",
      " |  fly = 'Whirring'\n",
      "\n"
     ]
    }
   ],
   "source": [
    "help(Apodidae)\n"
   ]
  },
  {
   "cell_type": "code",
   "execution_count": 156,
   "id": "b4628099-a217-4dea-b17c-cbffa9c1e28e",
   "metadata": {},
   "outputs": [
    {
     "name": "stdout",
     "output_type": "stream",
     "text": [
      "fa=[1, 1, 2, 3, 5, 8, 13]\n",
      "fb=[21, 34, 55, 89, 144]\n"
     ]
    }
   ],
   "source": [
    "class Fibs():\n",
    "    def __init__(self):\n",
    "        self.a=0\n",
    "        self.b=1\n",
    "    def next(self):  #实现迭代器的next方法\n",
    "        self.a,self.b=self.b,self.a+self.b\n",
    "        return self.a\n",
    "    def __iter__(self): #实现迭代方法\n",
    "        return self\n",
    "f=Fibs()\n",
    "fa=[]\n",
    "fb=[]\n",
    "for i in range(7):\n",
    "    fa.append(f.next())\n",
    "print(\"fa={}\".format(fa))\n",
    "for i in range(5):\n",
    "    fb.append(f.next())\n",
    "print(\"fb={}\".format(fb))\n"
   ]
  },
  {
   "cell_type": "code",
   "execution_count": 159,
   "id": "018f7838-75a9-4b75-8984-32ceadb59bb1",
   "metadata": {},
   "outputs": [
    {
     "name": "stdout",
     "output_type": "stream",
     "text": [
      "lst_d=[3, 5, 7, 9, 11, 13, 15, 17, 19]\n",
      "__________________________________________________\n",
      "next(lst_iter)->3\n",
      "next(lst_iter)->5\n",
      "7\n",
      "9\n",
      "11\n",
      "13\n",
      "15\n",
      "17\n",
      "19\n"
     ]
    },
    {
     "ename": "StopIteration",
     "evalue": "",
     "output_type": "error",
     "traceback": [
      "\u001b[1;31m---------------------------------------------------------------------------\u001b[0m",
      "\u001b[1;31mStopIteration\u001b[0m                             Traceback (most recent call last)",
      "\u001b[1;32m<ipython-input-159-b6282c57d6a0>\u001b[0m in \u001b[0;36m<module>\u001b[1;34m\u001b[0m\n\u001b[0;32m      7\u001b[0m \u001b[1;32mfor\u001b[0m \u001b[0mi\u001b[0m \u001b[1;32min\u001b[0m \u001b[0mlst_iter\u001b[0m\u001b[1;33m:\u001b[0m\u001b[1;33m\u001b[0m\u001b[1;33m\u001b[0m\u001b[0m\n\u001b[0;32m      8\u001b[0m     \u001b[0mprint\u001b[0m\u001b[1;33m(\u001b[0m\u001b[0mi\u001b[0m\u001b[1;33m)\u001b[0m\u001b[1;33m\u001b[0m\u001b[1;33m\u001b[0m\u001b[0m\n\u001b[1;32m----> 9\u001b[1;33m \u001b[0mnext\u001b[0m\u001b[1;33m(\u001b[0m\u001b[0mlst_iter\u001b[0m\u001b[1;33m)\u001b[0m\u001b[1;33m\u001b[0m\u001b[1;33m\u001b[0m\u001b[0m\n\u001b[0m",
      "\u001b[1;31mStopIteration\u001b[0m: "
     ]
    }
   ],
   "source": [
    "lst_d=list(range(3,20,2))\n",
    "print(\"lst_d={}\".format(lst_d))\n",
    "print(\"_\"*50)\n",
    "lst_iter=iter(lst_d)\n",
    "print(\"next(lst_iter)->{}\".format(next(lst_iter)))\n",
    "print(\"next(lst_iter)->{}\".format(next(lst_iter)))\n",
    "for i in lst_iter:\n",
    "    print(i)\n",
    "next(lst_iter)\n"
   ]
  },
  {
   "cell_type": "code",
   "execution_count": 163,
   "id": "2ea69295-1431-4fc5-98ce-ab85708b0ce3",
   "metadata": {},
   "outputs": [
    {
     "name": "stdout",
     "output_type": "stream",
     "text": [
      "lst_e=[[3, 7, 11, 15, 19, 23, 27], [3, 6, 57, [0, 1, 2, 3, 4, 5], 77]]\n",
      "_____\n",
      "flatten_lst=[3, 7, 11, 15, 19, 23, 27, 3, 6, 57, 0, 1, 2, 3, 4, 5, 77]\n"
     ]
    }
   ],
   "source": [
    "lst_e=[list(range(3,30,4)),[3,6,57,list(range(6)),77]]\n",
    "print(\"lst_e={}\".format(lst_e))\n",
    "print(\"_\"*5)\n",
    "flatten_lst=[]\n",
    "for v_1 in lst_e:\n",
    "    try:\n",
    "        for v_2 in v_1:\n",
    "            try:\n",
    "                for v_3 in v_2:\n",
    "                    flatten_lst.append(v_3)\n",
    "            except TypeError:\n",
    "                flatten_lst.append(v_2)\n",
    "    except TypeError:\n",
    "        flatten_lst.append(v_1)\n",
    "print(\"flatten_lst={}\".format(flatten_lst))\n"
   ]
  },
  {
   "cell_type": "code",
   "execution_count": 165,
   "id": "367fbf5a-a6c8-4e9d-a2c6-31418815bc28",
   "metadata": {},
   "outputs": [
    {
     "name": "stdout",
     "output_type": "stream",
     "text": [
      "list(flatten(lst_e))->[3, 7, 11, 15, 19, 23, 27, 3, 6, 57, 0, 1, 2, 3, 4, 5, 77]\n"
     ]
    }
   ],
   "source": [
    "def flatten(lst): #定义生成器（包含yield语句的函数）\n",
    "    try: #使用语句try\\except捕捉异常        \n",
    "        for n_lst in lst:  #循环列表            \n",
    "            for m in flatten(n_lst): #使用递归的方法循环子列表                \n",
    "                yield m  #使用yield语句，每次产生多个值，当返回一个值时函数就会被冻结，当再次激活时，从停止的那点开始执行\n",
    "    except TypeError:  #当函数被告知展开一个元素时，引发TypeError异常，生成器返回一个值\n",
    "        yield lst #生成器返回引发异常的一个值        \n",
    "print(\"list(flatten(lst_e))->{}\".format(list(flatten(lst_e))))\n",
    "\n"
   ]
  },
  {
   "cell_type": "code",
   "execution_count": 168,
   "id": "1c97cc59-7925-45f0-b008-61e6b86e719e",
   "metadata": {},
   "outputs": [
    {
     "name": "stdout",
     "output_type": "stream",
     "text": [
      "next(n)->num#0\n",
      "next(n)->num#1\n",
      "next(n)->num#2\n",
      "[next(n) for i in range(5)]->['num#3', 'num#4', 'num#5', 'num#6', 'num#7', 'num#8', 'num#9']\n"
     ]
    }
   ],
   "source": [
    "def infinite():\n",
    "    n=0\n",
    "    while True:\n",
    "        yield 'num#'+str(n)\n",
    "        n+=1\n",
    "n=infinite()\n",
    "print(\"next(n)->{}\".format(next(n)))\n",
    "print(\"next(n)->{}\".format(next(n)))\n",
    "print(\"next(n)->{}\".format(next(n)))\n",
    "print(\"[next(n) for i in range(5)]->{}\".format([next(n) for i in range(7)]))\n"
   ]
  },
  {
   "cell_type": "code",
   "execution_count": 171,
   "id": "02f86f3b-3671-4ded-8dda-a8a90d9795ff",
   "metadata": {},
   "outputs": [
    {
     "name": "stdout",
     "output_type": "stream",
     "text": [
      "[[(2*pi*(2*(u/(n-1))-1),2*pi*(2*(v/(n-1))-1)) for u in range(n)] for v in range(n)]->[[(-6.283185307179586, -6.283185307179586), (-3.7699111843077517, -6.283185307179586), (-1.256637061435917, -6.283185307179586), (1.256637061435917, -6.283185307179586), (3.769911184307752, -6.283185307179586), (6.283185307179586, -6.283185307179586)], [(-6.283185307179586, -3.7699111843077517), (-3.7699111843077517, -3.7699111843077517), (-1.256637061435917, -3.7699111843077517), (1.256637061435917, -3.7699111843077517), (3.769911184307752, -3.7699111843077517), (6.283185307179586, -3.7699111843077517)], [(-6.283185307179586, -1.256637061435917), (-3.7699111843077517, -1.256637061435917), (-1.256637061435917, -1.256637061435917), (1.256637061435917, -1.256637061435917), (3.769911184307752, -1.256637061435917), (6.283185307179586, -1.256637061435917)], [(-6.283185307179586, 1.256637061435917), (-3.7699111843077517, 1.256637061435917), (-1.256637061435917, 1.256637061435917), (1.256637061435917, 1.256637061435917), (3.769911184307752, 1.256637061435917), (6.283185307179586, 1.256637061435917)], [(-6.283185307179586, 3.769911184307752), (-3.7699111843077517, 3.769911184307752), (-1.256637061435917, 3.769911184307752), (1.256637061435917, 3.769911184307752), (3.769911184307752, 3.769911184307752), (6.283185307179586, 3.769911184307752)], [(-6.283185307179586, 6.283185307179586), (-3.7699111843077517, 6.283185307179586), (-1.256637061435917, 6.283185307179586), (1.256637061435917, 6.283185307179586), (3.769911184307752, 6.283185307179586), (6.283185307179586, 6.283185307179586)]]\n",
      "____\n",
      "([(2*pi*(2*(u/(n-1))-1),2*pi*(2*(v/(n-1))-1)) for u in range(n)] for v in range(n))-><generator object <genexpr> at 0x000002869F8CDDD0>\n",
      "next(gen)->[(-6.283185307179586, -6.283185307179586), (-3.7699111843077517, -6.283185307179586), (-1.256637061435917, -6.283185307179586), (1.256637061435917, -6.283185307179586), (3.769911184307752, -6.283185307179586), (6.283185307179586, -6.283185307179586)]\n",
      "next(gen)->[(-6.283185307179586, -3.7699111843077517), (-3.7699111843077517, -3.7699111843077517), (-1.256637061435917, -3.7699111843077517), (1.256637061435917, -3.7699111843077517), (3.769911184307752, -3.7699111843077517), (6.283185307179586, -3.7699111843077517)]\n"
     ]
    }
   ],
   "source": [
    "n=6\n",
    "print(\"[[(2*pi*(2*(u/(n-1))-1),2*pi*(2*(v/(n-1))-1)) for u in range(n)] for v in range(n)]->{}\".format([[(2*pi*(2*(u/(n-1))-1),2*pi*(2*(v/(n-1))-1)) for u in range(n)] for v in range(n)]))\n",
    "print(\"_\"*4)\n",
    "print(\"([(2*pi*(2*(u/(n-1))-1),2*pi*(2*(v/(n-1))-1)) for u in range(n)] for v in range(n))->{}\".format(([(2*pi*(2*(u/(n-1))-1),2*pi*(2*(v/(n-1))-1)) for u in range(n)] for v in range(n))))\n",
    "gen=([(2*pi*(2*(u/(n-1))-1),2*pi*(2*(v/(n-1))-1)) for u in range(n)] for v in range(n))\n",
    "print(\"next(gen)->{}\".format(next(gen)))\n",
    "print(\"next(gen)->{}\".format(next(gen)))\n"
   ]
  },
  {
   "cell_type": "code",
   "execution_count": 175,
   "id": "241cf453-4aaf-4f36-93a3-a897ed16306c",
   "metadata": {},
   "outputs": [
    {
     "name": "stdout",
     "output_type": "stream",
     "text": [
      "f_convert_a('3.15')->3.15\n",
      "f_convert_a('hey')->hey\n",
      "f_convert_a(3,5,8)->(3, 5, 8)\n"
     ]
    }
   ],
   "source": [
    "def f_convert_a(x):\n",
    "    try:\n",
    "        return float(x)\n",
    "    except:\n",
    "        return x\n",
    "print(\"f_convert_a('3.15')->{}\".format(f_convert_a('3.15')))    \n",
    "print(\"f_convert_a('hey')->{}\".format(f_convert_a('hey')))  \n",
    "print(\"f_convert_a(3,5,8)->{}\".format(f_convert_a((3,5,8))))  \n",
    "\n"
   ]
  },
  {
   "cell_type": "code",
   "execution_count": 176,
   "id": "ec86c254-8c04-4ba2-9de1-c0e4b9f40dbe",
   "metadata": {},
   "outputs": [
    {
     "name": "stdout",
     "output_type": "stream",
     "text": [
      "f_convert_b('3.1415')->3.1415\n",
      "f_convert_b('string')->string\n"
     ]
    },
    {
     "ename": "TypeError",
     "evalue": "float() argument must be a string or a number, not 'tuple'",
     "output_type": "error",
     "traceback": [
      "\u001b[1;31m---------------------------------------------------------------------------\u001b[0m",
      "\u001b[1;31mTypeError\u001b[0m                                 Traceback (most recent call last)",
      "\u001b[1;32m<ipython-input-176-5fedd2ebaea5>\u001b[0m in \u001b[0;36m<module>\u001b[1;34m\u001b[0m\n\u001b[0;32m      6\u001b[0m \u001b[0mprint\u001b[0m\u001b[1;33m(\u001b[0m\u001b[1;34m\"f_convert_b('3.1415')->{}\"\u001b[0m\u001b[1;33m.\u001b[0m\u001b[0mformat\u001b[0m\u001b[1;33m(\u001b[0m\u001b[0mf_convert_b\u001b[0m\u001b[1;33m(\u001b[0m\u001b[1;34m'3.1415'\u001b[0m\u001b[1;33m)\u001b[0m\u001b[1;33m)\u001b[0m\u001b[1;33m)\u001b[0m\u001b[1;33m\u001b[0m\u001b[1;33m\u001b[0m\u001b[0m\n\u001b[0;32m      7\u001b[0m \u001b[0mprint\u001b[0m\u001b[1;33m(\u001b[0m\u001b[1;34m\"f_convert_b('string')->{}\"\u001b[0m\u001b[1;33m.\u001b[0m\u001b[0mformat\u001b[0m\u001b[1;33m(\u001b[0m\u001b[0mf_convert_b\u001b[0m\u001b[1;33m(\u001b[0m\u001b[1;34m'string'\u001b[0m\u001b[1;33m)\u001b[0m\u001b[1;33m)\u001b[0m\u001b[1;33m)\u001b[0m\u001b[1;33m\u001b[0m\u001b[1;33m\u001b[0m\u001b[0m\n\u001b[1;32m----> 8\u001b[1;33m \u001b[0mprint\u001b[0m\u001b[1;33m(\u001b[0m\u001b[1;34m\"f_convert_b(3,6,7)->{}\"\u001b[0m\u001b[1;33m.\u001b[0m\u001b[0mformat\u001b[0m\u001b[1;33m(\u001b[0m\u001b[0mf_convert_b\u001b[0m\u001b[1;33m(\u001b[0m\u001b[1;33m(\u001b[0m\u001b[1;36m3\u001b[0m\u001b[1;33m,\u001b[0m\u001b[1;36m6\u001b[0m\u001b[1;33m,\u001b[0m\u001b[1;36m7\u001b[0m\u001b[1;33m)\u001b[0m\u001b[1;33m)\u001b[0m\u001b[1;33m)\u001b[0m\u001b[1;33m)\u001b[0m\u001b[1;33m\u001b[0m\u001b[1;33m\u001b[0m\u001b[0m\n\u001b[0m",
      "\u001b[1;32m<ipython-input-176-5fedd2ebaea5>\u001b[0m in \u001b[0;36mf_convert_b\u001b[1;34m(x)\u001b[0m\n\u001b[0;32m      1\u001b[0m \u001b[1;32mdef\u001b[0m \u001b[0mf_convert_b\u001b[0m\u001b[1;33m(\u001b[0m\u001b[0mx\u001b[0m\u001b[1;33m)\u001b[0m\u001b[1;33m:\u001b[0m\u001b[1;33m\u001b[0m\u001b[1;33m\u001b[0m\u001b[0m\n\u001b[0;32m      2\u001b[0m     \u001b[1;32mtry\u001b[0m\u001b[1;33m:\u001b[0m\u001b[1;33m\u001b[0m\u001b[1;33m\u001b[0m\u001b[0m\n\u001b[1;32m----> 3\u001b[1;33m         \u001b[1;32mreturn\u001b[0m \u001b[0mfloat\u001b[0m\u001b[1;33m(\u001b[0m\u001b[0mx\u001b[0m\u001b[1;33m)\u001b[0m\u001b[1;33m\u001b[0m\u001b[1;33m\u001b[0m\u001b[0m\n\u001b[0m\u001b[0;32m      4\u001b[0m     \u001b[1;32mexcept\u001b[0m \u001b[0mValueError\u001b[0m\u001b[1;33m:\u001b[0m\u001b[1;33m\u001b[0m\u001b[1;33m\u001b[0m\u001b[0m\n\u001b[0;32m      5\u001b[0m         \u001b[1;32mreturn\u001b[0m \u001b[0mx\u001b[0m\u001b[1;33m\u001b[0m\u001b[1;33m\u001b[0m\u001b[0m\n",
      "\u001b[1;31mTypeError\u001b[0m: float() argument must be a string or a number, not 'tuple'"
     ]
    }
   ],
   "source": [
    "def f_convert_b(x):\n",
    "    try:\n",
    "        return float(x)\n",
    "    except ValueError:\n",
    "        return x\n",
    "print(\"f_convert_b('3.1415')->{}\".format(f_convert_b('3.1415')))    \n",
    "print(\"f_convert_b('string')->{}\".format(f_convert_b('string')))  \n",
    "print(\"f_convert_b(3,6,7)->{}\".format(f_convert_b((3,6,7))))  \n"
   ]
  },
  {
   "cell_type": "code",
   "execution_count": 179,
   "id": "52ec7bc6-348e-4fbd-ab23-c7809be4b8a1",
   "metadata": {},
   "outputs": [
    {
     "name": "stdout",
     "output_type": "stream",
     "text": [
      "f_convert_c('?')->?\n",
      "f_convert_c('hey')->hey\n",
      "(4, 6, 7) TypeError\n",
      "f_convert_c(3,6,7)->None\n"
     ]
    }
   ],
   "source": [
    "def f_convert_c(x):\n",
    "    try:\n",
    "        return float(x)\n",
    "    except ValueError:\n",
    "        return x\n",
    "    except TypeError:\n",
    "        print(x,'TypeError')\n",
    "print(\"f_convert_c('?')->{}\".format(f_convert_c('?')))    \n",
    "print(\"f_convert_c('hey')->{}\".format(f_convert_c('hey')))  \n",
    "print(\"f_convert_c(3,6,7)->{}\".format(f_convert_c((4,6,7))))         \n"
   ]
  },
  {
   "cell_type": "code",
   "execution_count": 180,
   "id": "e00ec0fc-0a1c-49f1-8aaa-67ea276f7a0d",
   "metadata": {},
   "outputs": [
    {
     "name": "stdout",
     "output_type": "stream",
     "text": [
      "f_convert_d('3.1415')->3.1415\n",
      "string ValueError or TypeError\n",
      "f_convert_d('string')->None\n",
      "(3, 6, 7) ValueError or TypeError\n",
      "f_convert_d(3,6,7)->None\n"
     ]
    }
   ],
   "source": [
    "def f_convert_d(x):\n",
    "    try:\n",
    "        return float(x)\n",
    "    except (ValueError,TypeError):\n",
    "        print(x,'ValueError or TypeError')\n",
    "print(\"f_convert_d('3.1415')->{}\".format(f_convert_d('3.1415')))    \n",
    "print(\"f_convert_d('string')->{}\".format(f_convert_d('string')))  \n",
    "print(\"f_convert_d(3,6,7)->{}\".format(f_convert_d((3,6,7)))) \n"
   ]
  },
  {
   "cell_type": "code",
   "execution_count": 181,
   "id": "66605179-fd59-4c4d-9c6d-200e9f335f17",
   "metadata": {},
   "outputs": [
    {
     "name": "stdout",
     "output_type": "stream",
     "text": [
      "f_convert_f('3.1415')->3.1415\n",
      "f_convert_f('string')->None\n",
      "f_convert_f(3,6,7)->None\n"
     ]
    }
   ],
   "source": [
    "def f_convert_f(x):\n",
    "    try:\n",
    "        return float(x)\n",
    "    except (ValueError,TypeError) as e:\n",
    "        pass\n",
    "print(\"f_convert_f('3.1415')->{}\".format(f_convert_f('3.1415')))    \n",
    "print(\"f_convert_f('string')->{}\".format(f_convert_f('string')))  \n",
    "print(\"f_convert_f(3,6,7)->{}\".format(f_convert_f((3,6,7))))     \n"
   ]
  },
  {
   "cell_type": "code",
   "execution_count": 182,
   "id": "ecc45bbd-ed86-47e4-9275-f4d9b972eee4",
   "metadata": {},
   "outputs": [
    {
     "name": "stdout",
     "output_type": "stream",
     "text": [
      "Unable to open ./data/tryException.txt :[Errno 2] No such file or directory: './data/tryException.txt'\n",
      "\n",
      "tryException_content->None\n",
      "Unable to open ./data/tryException_.txt :[Errno 2] No such file or directory: './data/tryException_.txt'\n",
      "\n"
     ]
    }
   ],
   "source": [
    "def f_open_a(fp):\n",
    "    try:\n",
    "        f=open(fp,'r')\n",
    "    except IOError as e:\n",
    "        print('Unable to open',fp,':%s\\n' %e)\n",
    "    else:\n",
    "        data=f.read()\n",
    "        f.close\n",
    "        return data\n",
    "tryException_content=f_open_a(\"./data/tryException.txt\")   \n",
    "print(\"tryException_content->{}\".format(tryException_content))\n",
    "f_open_a(\"./data/tryException_.txt\")\n"
   ]
  },
  {
   "cell_type": "code",
   "execution_count": 184,
   "id": "db980e72-1658-49e8-bda0-02af3317d822",
   "metadata": {},
   "outputs": [
    {
     "name": "stdout",
     "output_type": "stream",
     "text": [
      "Unable to open ./data/tryException.txt :[Errno 2] No such file or directory: './data/tryException.txt'\n",
      "\n",
      "got it!\n"
     ]
    }
   ],
   "source": [
    "def f_open_b(fp):\n",
    "    try:\n",
    "        f=open(fp,'r')\n",
    "    except IOError as e:\n",
    "        print('Unable to open',fp,':%s\\n' %e)\n",
    "    else:\n",
    "        data=f.read()\n",
    "        f.close()\n",
    "        return data\n",
    "    finally:\n",
    "        print('got it!')\n",
    "f_open_b(\"./data/tryException.txt\")        \n"
   ]
  },
  {
   "cell_type": "code",
   "execution_count": 185,
   "id": "8375c0d5-1743-4e2b-b2f2-eed565265f37",
   "metadata": {},
   "outputs": [
    {
     "ename": "Exception",
     "evalue": "",
     "output_type": "error",
     "traceback": [
      "\u001b[1;31m---------------------------------------------------------------------------\u001b[0m",
      "\u001b[1;31mException\u001b[0m                                 Traceback (most recent call last)",
      "\u001b[1;32m<ipython-input-185-ee49337a58c8>\u001b[0m in \u001b[0;36m<module>\u001b[1;34m\u001b[0m\n\u001b[1;32m----> 1\u001b[1;33m \u001b[1;32mraise\u001b[0m \u001b[0mException\u001b[0m \u001b[1;31m#没有任何有关错误信息的普通异常\u001b[0m\u001b[1;33m\u001b[0m\u001b[1;33m\u001b[0m\u001b[0m\n\u001b[0m",
      "\u001b[1;31mException\u001b[0m: "
     ]
    }
   ],
   "source": [
    "raise Exception #没有任何有关错误信息的普通异常\n"
   ]
  },
  {
   "cell_type": "code",
   "execution_count": 186,
   "id": "90ea96c7-bb93-47d2-8de9-ee9b1043c934",
   "metadata": {},
   "outputs": [
    {
     "ename": "Exception",
     "evalue": "Computer says no!",
     "output_type": "error",
     "traceback": [
      "\u001b[1;31m---------------------------------------------------------------------------\u001b[0m",
      "\u001b[1;31mException\u001b[0m                                 Traceback (most recent call last)",
      "\u001b[1;32m<ipython-input-186-9adaf43138bd>\u001b[0m in \u001b[0;36m<module>\u001b[1;34m\u001b[0m\n\u001b[1;32m----> 1\u001b[1;33m \u001b[1;32mraise\u001b[0m \u001b[0mException\u001b[0m\u001b[1;33m(\u001b[0m\u001b[1;34m'Computer says no!'\u001b[0m\u001b[1;33m)\u001b[0m \u001b[1;31m#添加错误信息的异常\u001b[0m\u001b[1;33m\u001b[0m\u001b[1;33m\u001b[0m\u001b[0m\n\u001b[0m",
      "\u001b[1;31mException\u001b[0m: Computer says no!"
     ]
    }
   ],
   "source": [
    "raise Exception('Computer says no!') #添加错误信息的异常\n"
   ]
  },
  {
   "cell_type": "code",
   "execution_count": 187,
   "id": "70ef512f-40ae-4b7b-8c2f-41528db552ea",
   "metadata": {},
   "outputs": [
    {
     "ename": "some_custom_exception",
     "evalue": "",
     "output_type": "error",
     "traceback": [
      "\u001b[1;31m---------------------------------------------------------------------------\u001b[0m",
      "\u001b[1;31msome_custom_exception\u001b[0m                     Traceback (most recent call last)",
      "\u001b[1;32m<ipython-input-187-dd2d27a8cc29>\u001b[0m in \u001b[0;36m<module>\u001b[1;34m\u001b[0m\n\u001b[0;32m      1\u001b[0m \u001b[1;32mclass\u001b[0m \u001b[0msome_custom_exception\u001b[0m\u001b[1;33m(\u001b[0m\u001b[0mException\u001b[0m\u001b[1;33m)\u001b[0m\u001b[1;33m:\u001b[0m\u001b[1;32mpass\u001b[0m \u001b[1;31m#\u001b[0m\u001b[1;33m\u001b[0m\u001b[1;33m\u001b[0m\u001b[0m\n\u001b[1;32m----> 2\u001b[1;33m \u001b[1;32mraise\u001b[0m \u001b[0msome_custom_exception\u001b[0m\u001b[1;33m\u001b[0m\u001b[1;33m\u001b[0m\u001b[0m\n\u001b[0m",
      "\u001b[1;31msome_custom_exception\u001b[0m: "
     ]
    }
   ],
   "source": [
    "class some_custom_exception(Exception):pass #\n",
    "raise some_custom_exception\n"
   ]
  },
  {
   "cell_type": "code",
   "execution_count": 190,
   "id": "fc1fcb33-66a1-4d74-8a26-97944848cc5b",
   "metadata": {},
   "outputs": [
    {
     "ename": "AssertionError",
     "evalue": "",
     "output_type": "error",
     "traceback": [
      "\u001b[1;31m---------------------------------------------------------------------------\u001b[0m",
      "\u001b[1;31mAssertionError\u001b[0m                            Traceback (most recent call last)",
      "\u001b[1;32m<ipython-input-190-eb686a717359>\u001b[0m in \u001b[0;36m<module>\u001b[1;34m\u001b[0m\n\u001b[0;32m      1\u001b[0m \u001b[0mx\u001b[0m\u001b[1;33m=\u001b[0m\u001b[1;36m20\u001b[0m\u001b[1;33m\u001b[0m\u001b[1;33m\u001b[0m\u001b[0m\n\u001b[0;32m      2\u001b[0m \u001b[1;32massert\u001b[0m \u001b[0mx\u001b[0m\u001b[1;33m>\u001b[0m\u001b[1;36m0\u001b[0m \u001b[1;31m#为真则不做任何事情\u001b[0m\u001b[1;33m\u001b[0m\u001b[1;33m\u001b[0m\u001b[0m\n\u001b[1;32m----> 3\u001b[1;33m \u001b[1;32massert\u001b[0m \u001b[0mx\u001b[0m\u001b[1;33m<\u001b[0m\u001b[1;36m0\u001b[0m \u001b[1;31m#为假则引发AssertionError异常\u001b[0m\u001b[1;33m\u001b[0m\u001b[1;33m\u001b[0m\u001b[0m\n\u001b[0m\u001b[0;32m      4\u001b[0m \u001b[1;33m\u001b[0m\u001b[0m\n",
      "\u001b[1;31mAssertionError\u001b[0m: "
     ]
    }
   ],
   "source": [
    "x=20\n",
    "assert x>0 #为真则不做任何事情\n",
    "assert x<0 #为假则引发AssertionError异常\n",
    "\n"
   ]
  },
  {
   "cell_type": "code",
   "execution_count": null,
   "id": "604ccb57-8ffe-44ee-91b2-ff7db5265f86",
   "metadata": {},
   "outputs": [],
   "source": []
  }
 ],
 "metadata": {
  "kernelspec": {
   "display_name": "Python 3",
   "language": "python",
   "name": "python3"
  },
  "language_info": {
   "codemirror_mode": {
    "name": "ipython",
    "version": 3
   },
   "file_extension": ".py",
   "mimetype": "text/x-python",
   "name": "python",
   "nbconvert_exporter": "python",
   "pygments_lexer": "ipython3",
   "version": "3.8.8"
  }
 },
 "nbformat": 4,
 "nbformat_minor": 5
}
